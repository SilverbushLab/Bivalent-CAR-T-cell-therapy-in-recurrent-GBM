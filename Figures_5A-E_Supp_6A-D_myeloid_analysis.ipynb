{
 "cells": [
  {
   "cell_type": "code",
   "execution_count": 1,
   "id": "092eb3a9-e902-4165-9f75-acb65580a885",
   "metadata": {
    "scrolled": true
   },
   "outputs": [
    {
     "name": "stderr",
     "output_type": "stream",
     "text": [
      "\n",
      "Attaching package: ‘dplyr’\n",
      "\n",
      "\n",
      "The following objects are masked from ‘package:stats’:\n",
      "\n",
      "    filter, lag\n",
      "\n",
      "\n",
      "The following objects are masked from ‘package:base’:\n",
      "\n",
      "    intersect, setdiff, setequal, union\n",
      "\n",
      "\n",
      "\n",
      "Attaching package: ‘rstatix’\n",
      "\n",
      "\n",
      "The following object is masked from ‘package:stats’:\n",
      "\n",
      "    filter\n",
      "\n",
      "\n",
      "Loading required package: SeuratObject\n",
      "\n",
      "Loading required package: sp\n",
      "\n",
      "\n",
      "Attaching package: ‘SeuratObject’\n",
      "\n",
      "\n",
      "The following objects are masked from ‘package:base’:\n",
      "\n",
      "    intersect, t\n",
      "\n",
      "\n",
      "\n",
      "\n",
      "Conda not found.\n",
      "\n",
      "If you have already created an SCP python environment using conda, you can specify the conda path by setting options(reticulate.conda_binary = \"/path/to/conda\", SCP_env_name = \"SCP_env\") before loading the package.\n",
      "\n",
      "\u001b[1m\u001b[22mscCustomize v3.0.1\n",
      "If you find the scCustomize useful please cite.\n",
      "See 'samuel-marsh.github.io/scCustomize/articles/FAQ.html' for citation info.\n",
      "\n",
      "---------------------------------------------------------------\n",
      "\n",
      "SCpubr\n",
      "\n",
      "\n",
      "If you use SCpubr in your research, please cite it accordingly: \n",
      "Blanco-Carmona, E. Generating publication ready visualizations for Single Cell transcriptomics using SCpubr. bioRxiv (2022) doi:10.1101/2022.02.28.482303.\n",
      "\n",
      "\n",
      "If the package is useful to you, consider leaving a Star in the GitHub repo: https://github.com/enblacar/SCpubr/stargazers \n",
      "\n",
      "\n",
      "Keep track of the package updates on Twitter (@Enblacar) or in https://github.com/enblacar/SCpubr/blob/main/NEWS.md \n",
      "\n",
      "\n",
      "To suppress this startup message, use: \n",
      "suppressPackageStartupMessages(library('SCpubr'))\n",
      "\n",
      "---------------------------------------------------------------\n",
      "\n",
      "\n",
      "Attaching package: ‘ggpubr’\n",
      "\n",
      "\n",
      "The following object is masked from ‘package:cowplot’:\n",
      "\n",
      "    get_legend\n",
      "\n",
      "\n",
      "\n",
      "Attaching package: ‘tidyr’\n",
      "\n",
      "\n",
      "The following object is masked from ‘package:SCP’:\n",
      "\n",
      "    unnest\n",
      "\n",
      "\n",
      "\n",
      "Attaching package: ‘purrr’\n",
      "\n",
      "\n",
      "The following object is masked from ‘package:SCP’:\n",
      "\n",
      "    invoke\n",
      "\n",
      "\n",
      "Warning message in dir.create(file.path(figures.dir, \"supp\")):\n",
      "“'/project/bicistronic_carT_gbm_Jackie/Final/Figures/myeloid//supp' already exists”\n"
     ]
    }
   ],
   "source": [
    "library(dplyr)\n",
    "library(rstatix)\n",
    "library(ggplot2)\n",
    "library(pals)\n",
    "library(cowplot)\n",
    "library(Seurat)\n",
    "library(SCP)\n",
    "library(scCustomize) \n",
    "library(SCpubr)\n",
    "library(ggsci)\n",
    "library(ggpubr)\n",
    "library(biomaRt)\n",
    "library(muscat)\n",
    "source('helper_functions.R')\n",
    "\n",
    "set.seed(123)\n",
    "\n",
    "root.dir <- \"/project/bicistronic_carT_gbm_Jackie/\"\n",
    "figures.dir <- paste0(root.dir, \"Final/\", \"Figures/\", \"myeloid/\") # figures will be outputted in this folder\n",
    "dir.create(file.path(figures.dir, \"supp\")) # supplemental figures will be outputted in this subfolder"
   ]
  },
  {
   "cell_type": "code",
   "execution_count": 2,
   "id": "ebda78a9-55bf-4c58-9302-8f49659800e1",
   "metadata": {},
   "outputs": [],
   "source": [
    "# correct ordering for figures\n",
    "myeloid.cell.types <- c('Pro-inflammatory macrophage', 'Inhibitory macrophage', 'CX3CR1+ monocyte', 'Monocyte', 'cDC1',  'pDC', 'cDC2', 'mregDC')\n"
   ]
  },
  {
   "cell_type": "code",
   "execution_count": 3,
   "id": "ff944702-ee67-4f3a-8b63-2483e7e5642e",
   "metadata": {},
   "outputs": [],
   "source": [
    "# for plotting\n",
    "col.pal <- stepped3(20)\n",
    "all.patients <- c(\"P6\", \"P1\", \"P8\", \"P5\", \"P2\", \"P7\", \"P4\", \"P3\")\n",
    "col.pal.values <- c(col.pal[5], col.pal[6], col.pal[7], col.pal[8], col.pal[11], col.pal[3], col.pal[2], col.pal[1])\n",
    "scale.color.patient <- scale_color_manual(breaks = all.patients, values = col.pal.values)\n",
    "scale.fill.patient <- scale_fill_manual(breaks = all.patients, values = col.pal.values)"
   ]
  },
  {
   "cell_type": "markdown",
   "id": "fd5483da-42d5-4a8e-ad07-ec82d8cf78c9",
   "metadata": {},
   "source": [
    "# Start here with myeloid seurat object"
   ]
  },
  {
   "cell_type": "code",
   "execution_count": 4,
   "id": "5c45ff01-6b65-4319-a63c-3c46b267a144",
   "metadata": {},
   "outputs": [],
   "source": [
    "myeloid <- readRDS(paste0(root.dir, \"ProcessedData/seurat/annotated_myeloid_refined.rds\"))\n",
    "myeloid$cell_type <- factor(myeloid$cell_type, levels = myeloid.cell.types)\n",
    "myeloid$Patient <- factor(myeloid$Patient, levels = all.patients)\n",
    "myeloid$response.status <- sapply(myeloid$Patient, function(x) ifelse(x %in% c(\"P3\", \"P4\", \"P7\", \"P2\"), \"Responder\", \"Non-responder\"))\n",
    "myeloid$response.status <- factor(myeloid$response.status, levels = c(\"Non-responder\", \"Responder\"))"
   ]
  },
  {
   "cell_type": "code",
   "execution_count": 5,
   "id": "ecffcc2a-b76e-4fb5-8d9e-6f31b6877ff5",
   "metadata": {},
   "outputs": [],
   "source": [
    "myeloid$cell_type_broad <- sapply(myeloid$cell_type, function(x) \n",
    "    case_when(\n",
    "        x %in% c('Pro-inflammatory macrophage', 'CX3CR1+ monocyte', 'Inhibitory macrophage', 'Monocyte') ~ 'Mono/Mac',\n",
    "        TRUE ~ x\n",
    "    )\n",
    ")"
   ]
  },
  {
   "cell_type": "code",
   "execution_count": 6,
   "id": "80563cd6-03af-4238-a092-fc3d9fc02dfe",
   "metadata": {},
   "outputs": [],
   "source": [
    "# cell type label with counts for each cell type\n",
    "cell_counts <- table(myeloid$cell_type)\n",
    "new_labels <- paste0(names(cell_counts), \" (\", cell_counts, \")\")\n",
    "names(new_labels) <- names(cell_counts)\n",
    "\n",
    "myeloid$`Cell type` <- plyr::mapvalues(\n",
    "  x = myeloid$cell_type,\n",
    "  from = names(new_labels),\n",
    "  to = new_labels\n",
    ")\n",
    "\n",
    "myeloid$`Cell type` <- factor(myeloid$`Cell type`, levels = unname(new_labels[myeloid.cell.types]))"
   ]
  },
  {
   "cell_type": "code",
   "execution_count": 7,
   "id": "9d8d357b-5c8a-4366-a6c8-9088474c474f",
   "metadata": {},
   "outputs": [
    {
     "name": "stderr",
     "output_type": "stream",
     "text": [
      "Warning message:\n",
      "“\u001b[1m\u001b[22mNo shared levels found between `names(values)` of the manual scale and the\n",
      "data's \u001b[32mfill\u001b[39m values.”\n"
     ]
    },
    {
     "data": {
      "text/html": [
       "<strong>pdf:</strong> 2"
      ],
      "text/latex": [
       "\\textbf{pdf:} 2"
      ],
      "text/markdown": [
       "**pdf:** 2"
      ],
      "text/plain": [
       "pdf \n",
       "  2 "
      ]
     },
     "metadata": {},
     "output_type": "display_data"
    }
   ],
   "source": [
    "# Figure 5A\n",
    "pdf(paste0(figures.dir, \"5A myeloid UMAP.pdf\"), width = 8, height = 6)\n",
    "CellDimPlot(srt = myeloid, group.by = c(\"Cell type\"), show_stat=F, palette='Dark2',\n",
    "    label=F, label_insitu=F, label.fg = \"black\", label.bg = \"white\", label.bg.r = 0, label.size =4, label_repel = F, pt.size=0.1,\n",
    "    ncol=1, reduction = \"umap.harmony\") & xlab('UMAP 1')  & ylab('UMAP 2') \n",
    "dev.off()"
   ]
  },
  {
   "cell_type": "code",
   "execution_count": 8,
   "id": "80ea5e6a-b283-4b70-94ea-f1826638a2bf",
   "metadata": {},
   "outputs": [
    {
     "name": "stderr",
     "output_type": "stream",
     "text": [
      "Warning message:\n",
      "“\u001b[1m\u001b[22mThe `slot` argument of `FetchData()` is deprecated as of SeuratObject 5.0.0.\n",
      "\u001b[36mℹ\u001b[39m Please use the `layer` argument instead.\n",
      "\u001b[36mℹ\u001b[39m The deprecated feature was likely used in the \u001b[34mSeurat\u001b[39m package.\n",
      "  Please report the issue at \u001b[3m\u001b[34m<https://github.com/satijalab/seurat/issues>\u001b[39m\u001b[23m.”\n",
      "Warning message:\n",
      "“The following variables were found in both object meta data and the default assay: CXCL9\n",
      "Returning meta data; if you want the feature, please use the assay's key (eg. rna_CXCL9)”\n"
     ]
    },
    {
     "data": {
      "text/html": [
       "<strong>pdf:</strong> 2"
      ],
      "text/latex": [
       "\\textbf{pdf:} 2"
      ],
      "text/markdown": [
       "**pdf:** 2"
      ],
      "text/plain": [
       "pdf \n",
       "  2 "
      ]
     },
     "metadata": {},
     "output_type": "display_data"
    }
   ],
   "source": [
    "# Supplemental Figure 6D\n",
    "genes <- c(\"SPP1\", \"CXCL9\")\n",
    "pdf(paste0(figures.dir, \"supp/\", \"Supp 6D SPP1 CXCL9 myeloid UMAP.pdf\"), width = 16, height = 6)\n",
    "FeaturePlot(myeloid, features = genes, cols = c(\"grey\", \"red\"), order=T, reduction = \"umap.harmony\", ncol=length(genes),\n",
    "            min.cutoff='q30', max.cutoff='q90', label = F, pt.size=0.1) & xlab('UMAP 1') & ylab('UMAP 2') & theme(\n",
    "        axis.text=element_blank(),axis.line = element_blank(), \n",
    "        axis.ticks=element_blank())\n",
    "dev.off()"
   ]
  },
  {
   "cell_type": "code",
   "execution_count": 9,
   "id": "b86ba5de-704b-4c53-9bae-faae50d3a378",
   "metadata": {},
   "outputs": [
    {
     "data": {
      "text/html": [
       "<strong>pdf:</strong> 2"
      ],
      "text/latex": [
       "\\textbf{pdf:} 2"
      ],
      "text/markdown": [
       "**pdf:** 2"
      ],
      "text/plain": [
       "pdf \n",
       "  2 "
      ]
     },
     "metadata": {},
     "output_type": "display_data"
    }
   ],
   "source": [
    "# Figure 5E\n",
    "pdf(paste0(figures.dir, \"5E myeloid proportions by day.pdf\"), width = 6, height = 6)\n",
    "CellStatPlot(myeloid, stat.by = \"cell_type\", group.by = \"Day\", label = F, alpha=1, palette='Dark2')\n",
    "dev.off()"
   ]
  },
  {
   "cell_type": "code",
   "execution_count": 10,
   "id": "fe381f1b-35f1-4298-bf46-a92eb2392c2c",
   "metadata": {},
   "outputs": [
    {
     "data": {
      "text/html": [
       "<strong>pdf:</strong> 2"
      ],
      "text/latex": [
       "\\textbf{pdf:} 2"
      ],
      "text/markdown": [
       "**pdf:** 2"
      ],
      "text/plain": [
       "pdf \n",
       "  2 "
      ]
     },
     "metadata": {},
     "output_type": "display_data"
    }
   ],
   "source": [
    "# Supplemental Figure 6A\n",
    "d0 <- CellStatPlot(subset(myeloid, subset = Day == \"D0\"), stat.by = \"cell_type\", group.by = \"response.status\", label = F, alpha=1, palette='Dark2') + ggtitle(\"Day 0\")\n",
    "d7 <- CellStatPlot(subset(myeloid, subset = Day == \"D7\"), stat.by = \"cell_type\", group.by = \"response.status\", label = F, alpha=1, palette='Dark2') + ggtitle(\"Day 7\")\n",
    "d21 <- CellStatPlot(subset(myeloid, subset = Day == \"D21\"), stat.by = \"cell_type\", group.by = \"response.status\", label = F, alpha=1, palette='Dark2') + ggtitle(\"Day 21\")\n",
    "pdf(paste0(figures.dir, \"supp/\", \"Supp 6A myeloid proportions by response by day.pdf\"), width = 16, height = 6)\n",
    "p <- d0 + d7 + d21\n",
    "print(p)\n",
    "dev.off()"
   ]
  },
  {
   "cell_type": "code",
   "execution_count": 11,
   "id": "6aac83cd-9244-4a55-afef-532ffe10c446",
   "metadata": {},
   "outputs": [
    {
     "data": {
      "text/html": [
       "<strong>pdf:</strong> 2"
      ],
      "text/latex": [
       "\\textbf{pdf:} 2"
      ],
      "text/markdown": [
       "**pdf:** 2"
      ],
      "text/plain": [
       "pdf \n",
       "  2 "
      ]
     },
     "metadata": {},
     "output_type": "display_data"
    }
   ],
   "source": [
    "# Supplemental Figure 6B\n",
    "d0 <- CellStatPlot(subset(myeloid, subset = Day == \"D0\"), stat.by = \"cell_type\", group.by = \"Patient\", label = F, alpha=1, palette='Dark2') + ggtitle(\"Day 0\")\n",
    "d7 <- CellStatPlot(subset(myeloid, subset = Day == \"D7\"), stat.by = \"cell_type\", group.by = \"Patient\", label = F, alpha=1, palette='Dark2') + ggtitle(\"Day 7\")\n",
    "d21 <- CellStatPlot(subset(myeloid, subset = Day == \"D21\"), stat.by = \"cell_type\", group.by = \"Patient\", label = F, alpha=1, palette='Dark2') + ggtitle(\"Day 21\")\n",
    "pdf(paste0(figures.dir, \"supp/\", \"Supp 6B myeloid proportions by Patient by day.pdf\"), width = 24, height = 6)\n",
    "p <- d0 + d7 + d21\n",
    "print(p)\n",
    "dev.off()"
   ]
  },
  {
   "cell_type": "code",
   "execution_count": 12,
   "id": "114e48fa-0640-472b-b777-66ef6b3ec2c0",
   "metadata": {
    "scrolled": true
   },
   "outputs": [
    {
     "name": "stderr",
     "output_type": "stream",
     "text": [
      "Warning message:\n",
      "“The following variables were found in both object meta data and the default assay: IL1B, TNF, IL6, APOE, TREM2, FOLR2, MS4A4A, VCAN, FCN1, CD300E, LILRA5, XCR1, CLEC9A, CADM1, THBD, LILRA4, LRRC26, IL3RA, CLEC4C, CD1C, CD1E, FCER1A, CD5, LAMP3, CCR7, CCL19, BIRC3\n",
      "Returning meta data; if you want the feature, please use the assay's key (eg. rna_IL1B)”\n"
     ]
    },
    {
     "data": {
      "text/html": [
       "<strong>pdf:</strong> 2"
      ],
      "text/latex": [
       "\\textbf{pdf:} 2"
      ],
      "text/markdown": [
       "**pdf:** 2"
      ],
      "text/plain": [
       "pdf \n",
       "  2 "
      ]
     },
     "metadata": {},
     "output_type": "display_data"
    }
   ],
   "source": [
    "# Figure 5B\n",
    "genes <- c(\n",
    "    'IL1B', 'TNF', 'IL6', \n",
    "    \"SPP1\", \"C1QA\", \"C1QB\", \"C1QC\", \n",
    "    'APOE','TREM2', 'FOLR2','MS4A4A', \n",
    "    \"CX3CR1\", \n",
    "    'VCAN','FCN1','CD300E','LILRA5',\n",
    "    'XCR1','CLEC9A','CADM1','THBD',\n",
    "    'LILRA4', 'LRRC26','IL3RA','CLEC4C',\n",
    "    'CD1C','CD1E','FCER1A','CD5',\n",
    "    'LAMP3','CCR7','CCL19','BIRC3'\n",
    ") \n",
    "\n",
    "myeloid$cell_type <- factor(myeloid$cell_type, levels = rev(myeloid.cell.types))\n",
    "Idents(myeloid) <- \"cell_type\"\n",
    "pdf(paste0(figures.dir, \"5B myeloid subtypes gene signatures dotplot.pdf\"), width = 12, height = 4)\n",
    "p <- Clustered_DotPlot(myeloid,  features = genes, k = 1, x_lab_rotate=90,\n",
    "        cluster_feature = F, cluster_ident = F, flip=T, exp_color_max=1, exp_color_min=-1,  \n",
    "        show_ident_colors=F,  colors_use_exp = colorRampPalette(c(\"darkgreen\",\"white\",\"darkorchid4\"))(50)) \n",
    "dev.off()"
   ]
  },
  {
   "cell_type": "markdown",
   "id": "ceaae5f4-8680-4169-83f2-aa40d30e0750",
   "metadata": {},
   "source": [
    "# DEG analysis"
   ]
  },
  {
   "cell_type": "code",
   "execution_count": 13,
   "id": "89d1efc4-d2d5-41fa-970d-84f2deecc8ec",
   "metadata": {},
   "outputs": [
    {
     "name": "stderr",
     "output_type": "stream",
     "text": [
      "Warning message:\n",
      "“\u001b[1m\u001b[22m`PackageCheck()` was deprecated in SeuratObject 5.0.0.\n",
      "\u001b[36mℹ\u001b[39m Please use `rlang::check_installed()` instead.\n",
      "\u001b[36mℹ\u001b[39m The deprecated feature was likely used in the \u001b[34mSeurat\u001b[39m package.\n",
      "  Please report the issue at \u001b[3m\u001b[34m<https://github.com/satijalab/seurat/issues>\u001b[39m\u001b[23m.”\n",
      "Warning message:\n",
      "“\u001b[1m\u001b[22mThe `slot` argument of `GetAssayData()` is deprecated as of SeuratObject 5.0.0.\n",
      "\u001b[36mℹ\u001b[39m Please use the `layer` argument instead.\n",
      "\u001b[36mℹ\u001b[39m The deprecated feature was likely used in the \u001b[34mSeurat\u001b[39m package.\n",
      "  Please report the issue at \u001b[3m\u001b[34m<https://github.com/satijalab/seurat/issues>\u001b[39m\u001b[23m.”\n"
     ]
    },
    {
     "name": "stdout",
     "output_type": "stream",
     "text": [
      "  |======================================================================| 100%\n",
      "\n",
      "         Num DE.genes % DE.genes\n",
      "cDC1              202      0.552\n",
      "cDC2              196      0.535\n",
      "Mono/Mac          609      1.664\n"
     ]
    }
   ],
   "source": [
    "muscat.edgeR <- muscat.de.genes(\n",
    "    seurat_obj = myeloid, \n",
    "    cluster_col = 'cell_type_broad', \n",
    "    group_col = 'Day', \n",
    "    sample_col = 'sample_id', \n",
    "    method = 'edgeR',\n",
    "    filter = \"both\"\n",
    ")"
   ]
  },
  {
   "cell_type": "code",
   "execution_count": 14,
   "id": "6eb8ce60-487a-4358-a09e-e7d2a1adc3fb",
   "metadata": {
    "scrolled": true
   },
   "outputs": [],
   "source": [
    "protein_coding <- filter_genes_by_biotype(muscat.edgeR$gene, biotype = \"protein_coding\")\n",
    "muscat.edgeR <- muscat.edgeR[muscat.edgeR$gene %in% c(protein_coding$filtered_genes, 'CAR'),]"
   ]
  },
  {
   "cell_type": "code",
   "execution_count": 15,
   "id": "61ade6e5-4070-417f-ab78-8e9f32e517df",
   "metadata": {
    "scrolled": true
   },
   "outputs": [],
   "source": [
    "ctype <- \"Mono/Mac\"\n",
    "\n",
    "muscat.edgeR.ctype <- muscat.edgeR %>% filter(cluster_id == ctype)\n",
    "\n",
    "muscat.edgeR.up <- muscat.edgeR.ctype %>% filter(p_adj.loc <= 0.05, logFC > 1) %>% arrange(p_adj.loc)\n",
    "genes.up <- unique(muscat.edgeR.up$gene)\n",
    "\n",
    "muscat.edgeR.down <- muscat.edgeR.ctype %>% filter(p_adj.loc <= 0.05, logFC < -1) %>% arrange(p_adj.loc)\n",
    "genes.down <- unique(muscat.edgeR.down$gene)"
   ]
  },
  {
   "cell_type": "code",
   "execution_count": 16,
   "id": "3c9969b1-2a18-41e2-a696-33ec1c0e59d9",
   "metadata": {
    "scrolled": true
   },
   "outputs": [
    {
     "name": "stderr",
     "output_type": "stream",
     "text": [
      "Warning message:\n",
      "“\u001b[1m\u001b[22mRemoved 1 row containing missing values or values outside the scale range\n",
      "(`geom_text_repel()`).”\n"
     ]
    },
    {
     "data": {
      "text/html": [
       "<strong>pdf:</strong> 2"
      ],
      "text/latex": [
       "\\textbf{pdf:} 2"
      ],
      "text/markdown": [
       "**pdf:** 2"
      ],
      "text/plain": [
       "pdf \n",
       "  2 "
      ]
     },
     "metadata": {},
     "output_type": "display_data"
    }
   ],
   "source": [
    "# Figure 5C\n",
    "muscat.edgeR.ctype <- muscat.edgeR %>% \n",
    "    filter(cluster_id == ctype) %>% \n",
    "    dplyr::select(gene, p_adj.loc, logFC) \n",
    "\n",
    "rownames(muscat.edgeR.ctype) <- muscat.edgeR.ctype$gene\n",
    "colnames(muscat.edgeR.ctype) <- c('gene', 'p_val_adj', 'avg_log2FC')\n",
    "\n",
    "muscat.edgeR.ctype <- muscat.edgeR.ctype %>% dplyr::select(p_val_adj, avg_log2FC)\n",
    "\n",
    "pdf(file.path(figures.dir, paste0(\"5C MonoMac D21 vs D0 log2fc.pdf\")), width=8, height=8)\n",
    "do_VolcanoPlot(sample = myeloid, genes.up = genes.up[1:10], genes.down = genes.down[1:10],\n",
    "            de_genes = muscat.edgeR.ctype, pt.size=0.6, min.segment.length=0.01, force=20, nudge_x=1.5,\n",
    "            pval_cutoff = 0.05,\n",
    "            FC_cutoff = 1, n_genes = 10, order_tags_by='custom') +\n",
    "            xlab(\"log2 fold change (Day 21 vs Day 0)\") +\n",
    "            ggtitle(ctype)\n",
    "dev.off()"
   ]
  },
  {
   "cell_type": "code",
   "execution_count": 17,
   "id": "0d306cd7-37a4-4070-b735-2b8a7193a87f",
   "metadata": {},
   "outputs": [
    {
     "name": "stdout",
     "output_type": "stream",
     "text": [
      "[1] \"cDC1\"\n",
      "[1] \"cDC2\"\n"
     ]
    },
    {
     "name": "stderr",
     "output_type": "stream",
     "text": [
      "Warning message:\n",
      "“\u001b[1m\u001b[22mRemoved 1 row containing missing values or values outside the scale range\n",
      "(`geom_text_repel()`).”\n"
     ]
    },
    {
     "data": {
      "text/html": [
       "<strong>pdf:</strong> 2"
      ],
      "text/latex": [
       "\\textbf{pdf:} 2"
      ],
      "text/markdown": [
       "**pdf:** 2"
      ],
      "text/plain": [
       "pdf \n",
       "  2 "
      ]
     },
     "metadata": {},
     "output_type": "display_data"
    }
   ],
   "source": [
    "# Supplemental Figure 6C\n",
    "deg.ctypes <- unique(muscat.edgeR$cluster_id)\n",
    "deg.ctypes <- deg.ctypes[deg.ctypes != \"Mono/Mac\"]\n",
    "\n",
    "plot.list <- list()\n",
    "for (ctype in deg.ctypes) {\n",
    "    print(ctype)\n",
    "    \n",
    "    muscat.edgeR.ctype <- muscat.edgeR %>% filter(cluster_id == ctype)\n",
    "    \n",
    "    muscat.edgeR.up <- muscat.edgeR.ctype %>% filter(p_adj.loc <= 0.05, logFC > 1) %>% arrange(p_adj.loc)\n",
    "    genes.up <- unique(muscat.edgeR.up$gene)\n",
    "    \n",
    "    muscat.edgeR.down <- muscat.edgeR.ctype %>% filter(p_adj.loc <= 0.05, logFC < -1) %>% arrange(p_adj.loc)\n",
    "    genes.down <- unique(muscat.edgeR.down$gene)\n",
    "\n",
    "    muscat.edgeR.ctype <- muscat.edgeR %>% \n",
    "    filter(cluster_id == ctype) %>% \n",
    "    dplyr::select(gene, p_adj.loc, logFC) \n",
    "\n",
    "    rownames(muscat.edgeR.ctype) <- muscat.edgeR.ctype$gene\n",
    "    colnames(muscat.edgeR.ctype) <- c('gene', 'p_val_adj', 'avg_log2FC')\n",
    "    \n",
    "    muscat.edgeR.ctype <- muscat.edgeR.ctype %>% dplyr::select(p_val_adj, avg_log2FC)\n",
    "    \n",
    "    p <- do_VolcanoPlot(sample = myeloid, genes.up = genes.up[1:10], genes.down = genes.down[1:10],\n",
    "                de_genes = muscat.edgeR.ctype, pt.size=0.6, min.segment.length=0.01, force=20, nudge_x=1.5,\n",
    "                pval_cutoff = 0.05,\n",
    "                FC_cutoff = 1, n_genes = 10, order_tags_by='custom') +\n",
    "                xlab(\"log2 fold change (Day 21 vs Day 0)\") +\n",
    "                ggtitle(ctype) \n",
    "\n",
    "    plot.list[[ctype]] <- p\n",
    "}\n",
    "p <- plot_grid(plotlist = plot.list)\n",
    "pdf(file.path(figures.dir, \"supp\", paste0(\"Supp 6C DC D21 vs D0 log2fc.pdf\")), width=16, height=8)\n",
    "print(p)\n",
    "dev.off()"
   ]
  },
  {
   "cell_type": "markdown",
   "id": "dff2455f-50a0-4df1-85b8-274bb2dc2baa",
   "metadata": {},
   "source": [
    "# Myeloid programs\n",
    "From the following paper:  \n",
    "Miller, T. E. et al. Programs, origins and immunomodulatory functions of myeloid cells in glioma. Nature 640, 1072–1082 (2025)."
   ]
  },
  {
   "cell_type": "code",
   "execution_count": 18,
   "id": "317aeac8-96ab-4779-bc1a-a228a257af8b",
   "metadata": {},
   "outputs": [],
   "source": [
    "miller.programs <- read.csv(paste0(root.dir, \"Resources/\", \"Tyler_Myeloid_Programs.csv\"))"
   ]
  },
  {
   "cell_type": "code",
   "execution_count": 19,
   "id": "b1efef65-9503-44da-ac38-2ec5d6357234",
   "metadata": {},
   "outputs": [],
   "source": [
    "# function for adding module score and then correcting the metadata column names (removes extra digits)\n",
    "add.module.score <- function(seurat.obj, gene.signatures) {\n",
    "\n",
    "  # remove existing  \n",
    "  for (g in names(gene.signatures)) {\n",
    "    if (g %in% colnames(seurat.obj@meta.data)) {\n",
    "        seurat.obj@meta.data[[g]] <- NULL\n",
    "    }\n",
    "  }\n",
    "    \n",
    "  seurat.obj <- AddModuleScore(\n",
    "    object = seurat.obj,\n",
    "    features = gene.signatures,\n",
    "    name = names(gene.signatures),\n",
    "    search = T\n",
    "  )\n",
    "  \n",
    "  i <- 1\n",
    "  for (g in names(gene.signatures)) {\n",
    "    colnames(seurat.obj@meta.data) <- gsub(paste0(g, i), g, colnames(seurat.obj@meta.data))\n",
    "    i <- i + 1\n",
    "  }\n",
    "  \n",
    "  return(seurat.obj)\n",
    "}"
   ]
  },
  {
   "cell_type": "code",
   "execution_count": 20,
   "id": "b14a705b-caea-466f-a02e-b474e16e6e79",
   "metadata": {},
   "outputs": [],
   "source": [
    "# add gene signature\n",
    "gene.signatures <- list()\n",
    "\n",
    "for (col in colnames(miller.programs)) {\n",
    "    gene.signatures[[col]] <- miller.programs[[col]]\n",
    "}\n",
    "\n",
    "myeloid <- add.module.score(myeloid, gene.signatures)"
   ]
  },
  {
   "cell_type": "code",
   "execution_count": 21,
   "id": "7c926a65-6d8b-4490-bb0e-087b97bacb6a",
   "metadata": {},
   "outputs": [],
   "source": [
    "signatures <- c(\n",
    "    'Complement.Immunosuppressive',\n",
    "    'Scavenger.Immunosuppressive',\n",
    "    'Microglial.Inflammatory',\n",
    "    'Systemic.Inflammatory',\n",
    "    'Hypoxia',\n",
    "    'IFN.Response',\n",
    "    'HS.UPR','G2.M','G1.S'\n",
    ") "
   ]
  },
  {
   "cell_type": "code",
   "execution_count": 22,
   "id": "cda972d7-9c67-49d0-984f-3771588b7a45",
   "metadata": {},
   "outputs": [],
   "source": [
    "df <- myeloid@meta.data %>% \n",
    "    dplyr::select(Patient, response.status, Day, sample_id, cell_type_broad_l1, names(gene.signatures)) %>%\n",
    "    pivot_longer(names(gene.signatures), names_to = \"program\", values_to = \"expression\") %>%\n",
    "    group_by(Patient, response.status, Day, sample_id, cell_type_broad_l1, program) %>%\n",
    "    summarize(mean.expression = mean(expression), .groups=\"drop\")"
   ]
  },
  {
   "cell_type": "code",
   "execution_count": 23,
   "id": "f5384b9e-ba74-4c06-9642-f00070339eca",
   "metadata": {},
   "outputs": [
    {
     "data": {
      "text/html": [
       "<strong>pdf:</strong> 2"
      ],
      "text/latex": [
       "\\textbf{pdf:} 2"
      ],
      "text/markdown": [
       "**pdf:** 2"
      ],
      "text/plain": [
       "pdf \n",
       "  2 "
      ]
     },
     "metadata": {},
     "output_type": "display_data"
    }
   ],
   "source": [
    "# Figure 5D\n",
    "my_comparisons <- list(c(\"D0\", \"D7\"), c(\"D0\", \"D21\"))\n",
    "program.of.interest <- \"Complement.Immunosuppressive\"\n",
    "\n",
    "plot.list <- list()\n",
    "for (celltype in c(\"Mono/Mac\")) {\n",
    "    program.df <- df %>% filter(program == program.of.interest, cell_type_broad_l1 == celltype) %>% arrange(Patient, Day)\n",
    "\n",
    "    stat.test <- program.df %>%\n",
    "        group_by(cell_type_broad_l1) %>%\n",
    "        wilcox_test(mean.expression ~ Day, paired = T, comparisons = my_comparisons) %>%\n",
    "        adjust_pvalue(method = \"fdr\") %>%\n",
    "        add_significance(\"p.adj\") %>%\n",
    "        add_xy_position(x = \"Day\")\n",
    "    stat.test$p.adj.label <- apply(stat.test, 1, function(row) ifelse(as.numeric(row[[\"p.adj\"]]) <= 0.1, \n",
    "                                                                      ifelse(as.numeric(row[[\"p.adj\"]]) <= 0.05, row[[\"p.adj.signif\"]], row[[\"p.adj\"]]), \n",
    "                                                                      NA))\n",
    "                                    \n",
    "    p <- ggplot(program.df, aes(Day, mean.expression)) +\n",
    "        geom_boxplot(outlier.shape = NA) + \n",
    "        geom_point(position=position_jitter(width=0.2)) +   \n",
    "        theme_bw() +\n",
    "        ylab(paste0(program.of.interest, \" signature\")) +\n",
    "        ggtitle(celltype) +\n",
    "        stat_pvalue_manual(stat.test, label = \"p.adj\")\n",
    "    plot.list[[celltype]] <- p\n",
    "}\n",
    "p <- plot_grid(plotlist = plot.list)\n",
    "pdf(paste0(figures.dir, \"5D \", program.of.interest, \" Miller signature by day.pdf\"), width = 6, height = 6)\n",
    "print(p)\n",
    "dev.off()"
   ]
  },
  {
   "cell_type": "code",
   "execution_count": 24,
   "id": "1fa7a9d7-434c-4971-ac77-b0213e534d84",
   "metadata": {},
   "outputs": [
    {
     "data": {
      "text/plain": [
       "R version 4.3.2 (2023-10-31)\n",
       "Platform: aarch64-unknown-linux-gnu (64-bit)\n",
       "Running under: Ubuntu 22.04.3 LTS\n",
       "\n",
       "Matrix products: default\n",
       "BLAS:   /usr/lib/aarch64-linux-gnu/openblas-pthread/libblas.so.3 \n",
       "LAPACK: /usr/lib/aarch64-linux-gnu/openblas-pthread/libopenblasp-r0.3.20.so;  LAPACK version 3.10.0\n",
       "\n",
       "locale:\n",
       " [1] LC_CTYPE=en_US.UTF-8       LC_NUMERIC=C              \n",
       " [3] LC_TIME=en_US.UTF-8        LC_COLLATE=en_US.UTF-8    \n",
       " [5] LC_MONETARY=en_US.UTF-8    LC_MESSAGES=en_US.UTF-8   \n",
       " [7] LC_PAPER=en_US.UTF-8       LC_NAME=C                 \n",
       " [9] LC_ADDRESS=C               LC_TELEPHONE=C            \n",
       "[11] LC_MEASUREMENT=en_US.UTF-8 LC_IDENTIFICATION=C       \n",
       "\n",
       "time zone: Etc/UTC\n",
       "tzcode source: system (glibc)\n",
       "\n",
       "attached base packages:\n",
       "[1] stats     graphics  grDevices utils     datasets  methods   base     \n",
       "\n",
       "other attached packages:\n",
       " [1] purrr_1.0.4        tidyr_1.3.1        muscat_1.16.0      biomaRt_2.58.2    \n",
       " [5] ggpubr_0.6.0       ggsci_3.2.0        SCpubr_1.1.1.9000  scCustomize_3.0.1 \n",
       " [9] SCP_0.5.6          Seurat_5.3.0       SeuratObject_5.1.0 sp_2.2-0          \n",
       "[13] cowplot_1.1.3      pals_1.10          ggplot2_3.5.2      rstatix_0.7.2     \n",
       "[17] dplyr_1.1.4       \n",
       "\n",
       "loaded via a namespace (and not attached):\n",
       "  [1] IRanges_2.36.0              R.methodsS3_1.8.2          \n",
       "  [3] dichromat_2.0-0.1           progress_1.2.3             \n",
       "  [5] goftest_1.2-3               Biostrings_2.70.3          \n",
       "  [7] HDF5Array_1.30.1            vctrs_0.6.5                \n",
       "  [9] spatstat.random_3.3-3       corpcor_1.6.10             \n",
       " [11] digest_0.6.37               png_0.1-8                  \n",
       " [13] shape_1.4.6.1               slingshot_2.10.0           \n",
       " [15] ggrepel_0.9.6               IRdisplay_1.1              \n",
       " [17] deldir_2.0-4                parallelly_1.43.0          \n",
       " [19] MASS_7.3-60                 Signac_1.14.0              \n",
       " [21] reshape2_1.4.4              httpuv_1.6.16              \n",
       " [23] foreach_1.5.2               BiocGenerics_0.48.1        \n",
       " [25] qvalue_2.34.0               withr_3.0.2                \n",
       " [27] ggrastr_1.0.2               ggfun_0.1.8                \n",
       " [29] survival_3.5-7              memoise_2.0.1              \n",
       " [31] proxyC_0.5.2                ggbeeswarm_0.7.2           \n",
       " [33] clusterProfiler_4.10.1      janitor_2.2.1              \n",
       " [35] gson_0.1.0                  princurve_2.1.6            \n",
       " [37] gtools_3.9.5                tidytree_0.4.6             \n",
       " [39] zoo_1.8-14                  GlobalOptions_0.1.2        \n",
       " [41] pbapply_1.7-2               IRkernel_1.3.2             \n",
       " [43] R.oo_1.27.1                 Formula_1.2-5              \n",
       " [45] prettyunits_1.2.0           rematch2_2.1.2             \n",
       " [47] KEGGREST_1.42.0             promises_1.3.2             \n",
       " [49] httr_1.4.7                  globals_0.17.0             \n",
       " [51] fitdistrplus_1.2-2          rhdf5filters_1.14.1        \n",
       " [53] rhdf5_2.46.1                miniUI_0.1.2               \n",
       " [55] generics_0.1.3              DOSE_3.28.2                \n",
       " [57] base64enc_0.1-3             curl_6.2.2                 \n",
       " [59] S4Vectors_0.40.2            repr_1.1.7                 \n",
       " [61] zlibbioc_1.48.2             ScaledMatrix_1.10.0        \n",
       " [63] ggraph_2.2.1                polyclip_1.10-7            \n",
       " [65] GenomeInfoDbData_1.2.11     SparseArray_1.2.4          \n",
       " [67] xtable_1.8-4                stringr_1.5.1              \n",
       " [69] doParallel_1.0.17           evaluate_1.0.3             \n",
       " [71] S4Arrays_1.2.1              BiocFileCache_2.10.2       \n",
       " [73] hms_1.1.3                   GenomicRanges_1.54.1       \n",
       " [75] irlba_2.3.5.1               colorspace_2.1-1           \n",
       " [77] filelock_1.0.3              ROCR_1.0-11                \n",
       " [79] reticulate_1.42.0           spatstat.data_3.1-6        \n",
       " [81] magrittr_2.0.3              lmtest_0.9-40              \n",
       " [83] snakecase_0.11.1            later_1.4.2                \n",
       " [85] viridis_0.6.5               ggtree_3.10.1              \n",
       " [87] lattice_0.21-9              mapproj_1.2.11             \n",
       " [89] spatstat.geom_3.3-6         future.apply_1.11.3        \n",
       " [91] scuttle_1.12.0              scattermore_1.2            \n",
       " [93] XML_3.99-0.18               shadowtext_0.1.4           \n",
       " [95] matrixStats_1.5.0           RcppAnnoy_0.0.22           \n",
       " [97] pillar_1.10.2               nlme_3.1-163               \n",
       " [99] iterators_1.0.14            caTools_1.18.3             \n",
       "[101] beachmat_2.18.1             compiler_4.3.2             \n",
       "[103] RSpectra_0.16-2             stringi_1.8.7              \n",
       "[105] minqa_1.2.8                 tensor_1.5                 \n",
       "[107] SummarizedExperiment_1.32.0 lubridate_1.9.4            \n",
       "[109] plyr_1.8.9                  scater_1.30.1              \n",
       "[111] crayon_1.5.3                abind_1.4-8                \n",
       "[113] blme_1.0-6                  gridGraphics_0.5-1         \n",
       "[115] locfit_1.5-9.12             graphlayouts_1.2.2         \n",
       "[117] bit_4.6.0                   fastmatch_1.1-6            \n",
       "[119] codetools_0.2-19            BiocSingular_1.18.0        \n",
       "[121] paletteer_1.6.0             GetoptLong_1.0.5           \n",
       "[123] plotly_4.10.4               remaCor_0.0.18             \n",
       "[125] mime_0.13                   splines_4.3.2              \n",
       "[127] circlize_0.4.16             Rcpp_1.0.14                \n",
       "[129] fastDummies_1.7.5           sparseMatrixStats_1.14.0   \n",
       "[131] dbplyr_2.5.0                prismatic_1.1.2            \n",
       "[133] HDO.db_0.99.1               blob_1.2.4                 \n",
       "[135] clue_0.3-66                 pbdZMQ_0.3-14              \n",
       "[137] lme4_1.1-37                 fs_1.6.6                   \n",
       "[139] listenv_0.9.1               DelayedMatrixStats_1.24.0  \n",
       "[141] Rdpack_2.6.4                ggsignif_0.6.4             \n",
       "[143] ggplotify_0.1.2             tibble_3.2.1               \n",
       "[145] Matrix_1.6-4                statmod_1.5.0              \n",
       "[147] fANCOVA_0.6-1               tweenr_2.0.3               \n",
       "[149] pkgconfig_2.0.3             tools_4.3.2                \n",
       "[151] cachem_1.1.0                RhpcBLASctl_0.23-42        \n",
       "[153] rbibutils_2.3               R.cache_0.17.0             \n",
       "[155] RSQLite_2.3.11              numDeriv_2016.8-1.1        \n",
       "[157] viridisLite_0.4.2           DBI_1.2.3                  \n",
       "[159] fastmap_1.2.0               scales_1.4.0               \n",
       "[161] grid_4.3.2                  ica_1.0-3                  \n",
       "[163] Rsamtools_2.18.0            broom_1.0.8                \n",
       "[165] patchwork_1.3.0             ggprism_1.0.5              \n",
       "[167] dotCall64_1.2               carData_3.0-5              \n",
       "[169] RANN_2.6.2                  reformulas_0.4.1           \n",
       "[171] farver_2.1.2                aod_1.3.3                  \n",
       "[173] mgcv_1.9-0                  tidygraph_1.3.1            \n",
       "[175] scatterpie_0.2.4            MatrixGenerics_1.14.0      \n",
       "[177] cli_3.6.5                   stats4_4.3.2               \n",
       "[179] lifecycle_1.0.4             uwot_0.2.3                 \n",
       "[181] glmmTMB_1.1.11              Biobase_2.62.0             \n",
       "[183] mvtnorm_1.2-4               backports_1.5.0            \n",
       "[185] BiocParallel_1.36.0         timechange_0.3.0           \n",
       "[187] gtable_0.3.6                rjson_0.2.23               \n",
       "[189] ggridges_0.5.6              progressr_0.15.1           \n",
       "[191] limma_3.58.1                parallel_4.3.2             \n",
       "[193] ape_5.8-1                   edgeR_4.0.3                \n",
       "[195] jsonlite_2.0.0              RcppHNSW_0.6.0             \n",
       "[197] bitops_1.0-9                assertthat_0.2.1           \n",
       "[199] bit64_4.6.0-1               Rtsne_0.17                 \n",
       "[201] yulab.utils_0.2.0           BiocNeighbors_1.20.2       \n",
       "[203] spatstat.utils_3.1-3        GOSemSim_2.28.1            \n",
       "[205] spatstat.univar_3.1-2       R.utils_2.13.0             \n",
       "[207] pbkrtest_0.5.4              lazyeval_0.2.2             \n",
       "[209] shiny_1.10.0                htmltools_0.5.8.1          \n",
       "[211] enrichplot_1.22.0           GO.db_3.18.0               \n",
       "[213] sctransform_0.4.2           rappdirs_0.3.3             \n",
       "[215] glue_1.8.0                  spam_2.11-1                \n",
       "[217] XVector_0.42.0              RCurl_1.98-1.17            \n",
       "[219] treeio_1.26.0               gridExtra_2.3              \n",
       "[221] EnvStats_3.1.0              boot_1.3-28.1              \n",
       "[223] variancePartition_1.32.5    TMB_1.9.17                 \n",
       "[225] igraph_2.1.4                TrajectoryUtils_1.10.1     \n",
       "[227] R6_2.6.1                    gplots_3.2.0               \n",
       "[229] DESeq2_1.42.0               SingleCellExperiment_1.24.0\n",
       "[231] labeling_0.4.3              forcats_1.0.0              \n",
       "[233] RcppRoll_0.3.1              cluster_2.1.6              \n",
       "[235] Rhdf5lib_1.24.2             aplot_0.2.5                \n",
       "[237] GenomeInfoDb_1.38.8         nloptr_2.2.1               \n",
       "[239] DelayedArray_0.28.0         tidyselect_1.2.1           \n",
       "[241] vipor_0.4.7                 maps_3.4.2.1               \n",
       "[243] ggforce_0.4.2               xml2_1.3.8                 \n",
       "[245] car_3.1-3                   AnnotationDbi_1.64.1       \n",
       "[247] future_1.40.0               rsvd_1.0.5                 \n",
       "[249] KernSmooth_2.23-22          data.table_1.17.0          \n",
       "[251] htmlwidgets_1.6.4           fgsea_1.28.0               \n",
       "[253] ComplexHeatmap_2.18.0       RColorBrewer_1.1-3         \n",
       "[255] rlang_1.1.6                 spatstat.sparse_3.1-0      \n",
       "[257] spatstat.explore_3.4-2      lmerTest_3.1-3             \n",
       "[259] uuid_1.2-1                  Cairo_1.6-2                \n",
       "[261] ggnewscale_0.5.1            beeswarm_0.4.0             "
      ]
     },
     "metadata": {},
     "output_type": "display_data"
    }
   ],
   "source": [
    "sessionInfo() "
   ]
  },
  {
   "cell_type": "code",
   "execution_count": null,
   "id": "dc86244e-935d-470a-b5f0-b0eb5b6fe130",
   "metadata": {},
   "outputs": [],
   "source": []
  }
 ],
 "metadata": {
  "kernelspec": {
   "display_name": "R",
   "language": "R",
   "name": "ir"
  },
  "language_info": {
   "codemirror_mode": "r",
   "file_extension": ".r",
   "mimetype": "text/x-r-source",
   "name": "R",
   "pygments_lexer": "r",
   "version": "4.3.2"
  }
 },
 "nbformat": 4,
 "nbformat_minor": 5
}
