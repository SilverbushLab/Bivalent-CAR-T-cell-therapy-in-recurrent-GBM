{
 "cells": [
  {
   "cell_type": "code",
   "execution_count": 1,
   "id": "877ec869-c7b2-4cef-b434-3d2d95baa674",
   "metadata": {
    "scrolled": true
   },
   "outputs": [
    {
     "name": "stderr",
     "output_type": "stream",
     "text": [
      "Loading required package: SeuratObject\n",
      "\n",
      "Loading required package: sp\n",
      "\n",
      "\n",
      "Attaching package: ‘SeuratObject’\n",
      "\n",
      "\n",
      "The following objects are masked from ‘package:base’:\n",
      "\n",
      "    intersect, t\n",
      "\n",
      "\n",
      "\n",
      "Attaching package: ‘dplyr’\n",
      "\n",
      "\n",
      "The following objects are masked from ‘package:stats’:\n",
      "\n",
      "    filter, lag\n",
      "\n",
      "\n",
      "The following objects are masked from ‘package:base’:\n",
      "\n",
      "    intersect, setdiff, setequal, union\n",
      "\n",
      "\n",
      "\n",
      "Attaching package: ‘cowplot’\n",
      "\n",
      "\n",
      "The following object is masked from ‘package:ggpubr’:\n",
      "\n",
      "    get_legend\n",
      "\n",
      "\n",
      "\n",
      "Attaching package: ‘rstatix’\n",
      "\n",
      "\n",
      "The following object is masked from ‘package:stats’:\n",
      "\n",
      "    filter\n",
      "\n",
      "\n",
      "Warning message in dir.create(file.path(csf.liana.figures.dir, \"supp\")):\n",
      "“'/project/bicistronic_carT_gbm_Jackie/Final/Figures/interactions/csf//supp' already exists”\n"
     ]
    }
   ],
   "source": [
    "library(Seurat)\n",
    "library(liana)\n",
    "library(dplyr)\n",
    "library(tidyr)\n",
    "library(ggplot2)\n",
    "library(ggpubr)\n",
    "library(cowplot)\n",
    "library(pals)\n",
    "library(rstatix)\n",
    "\n",
    "set.seed(123)\n",
    "\n",
    "root.dir <- \"/project/bicistronic_carT_gbm_Jackie/\"\n",
    "figures.dir <- paste0(root.dir, \"Final/\", \"Figures/\")\n",
    "processed.data.dir <- paste0(root.dir, \"ProcessedData/\")\n",
    "csf.liana.output.dir <- paste0(processed.data.dir, \"liana/\", \"csf/\") # liana results (table) will be outputted to this folder\n",
    "csf.liana.figures.dir <- paste0(figures.dir, \"interactions/\", \"csf/\") # figures will be outputted in this folder\n",
    "dir.create(file.path(csf.liana.figures.dir, \"supp\")) # supplemental figures will be outputted in this subfolder"
   ]
  },
  {
   "cell_type": "code",
   "execution_count": 2,
   "id": "4f7568fa-ca05-4f50-94fc-bbad38b5c7d9",
   "metadata": {},
   "outputs": [],
   "source": [
    "# for plotting\n",
    "col.pal <- stepped3(20)\n",
    "all.patients <- c(\"P6\", \"P1\", \"P8\", \"P5\", \"P2\", \"P7\", \"P4\", \"P3\")\n",
    "col.pal.values <- c(col.pal[5], col.pal[6], col.pal[7], col.pal[8], col.pal[11], col.pal[3], col.pal[2], col.pal[1])\n",
    "scale.color.patient <- scale_color_manual(breaks = all.patients, values = col.pal.values)\n",
    "scale.fill.patient <- scale_fill_manual(breaks = all.patients, values = col.pal.values)"
   ]
  },
  {
   "cell_type": "markdown",
   "id": "174d8f29-05dc-477d-a92a-d7ba8ce21bdc",
   "metadata": {},
   "source": [
    "# Start here with CSF Seurat object"
   ]
  },
  {
   "cell_type": "code",
   "execution_count": 3,
   "id": "64343706-50ca-4a8c-8e29-d26903407238",
   "metadata": {},
   "outputs": [],
   "source": [
    "csf <- readRDS(paste0(root.dir, \"ProcessedData/seurat/annotated_prepost_csf_refined.rds\"))\n",
    "csf$response.status <- sapply(csf$Patient, function(x) ifelse(x %in% c('P2', 'P3', 'P7','P4'), 'Responder', 'Non-responder'))\n",
    "csf$response.status <- factor(csf$response.status, levels = c(\"Non-responder\", \"Responder\"))\n",
    "csf$Day <- factor(csf$Day, levels = c(\"D0\", \"D7\", \"D21\"))"
   ]
  },
  {
   "cell_type": "code",
   "execution_count": 4,
   "id": "c595ab25-e688-4cde-8157-6053efd644ed",
   "metadata": {},
   "outputs": [],
   "source": [
    "# use broad monocyte/macrophage classification for liana\n",
    "csf$cell_type_broad <- sapply(csf$cell_type, function(x) \n",
    "    case_when(\n",
    "        x %in% c('Pro-inflammatory macrophage', 'CX3CR1+ monocyte', 'Inhibitory macrophage', 'Monocyte') ~ 'Mono/Mac',\n",
    "        TRUE ~ x\n",
    "    )\n",
    ")\n",
    "csf$cell_type <- csf$cell_type_broad\n",
    "cell.type.col <- \"cell_type_broad\"\n",
    "Idents(csf) <- cell.type.col"
   ]
  },
  {
   "cell_type": "code",
   "execution_count": 5,
   "id": "9f829d13-5f55-4857-a42f-101ec1e6742b",
   "metadata": {},
   "outputs": [
    {
     "name": "stdout",
     "output_type": "stream",
     "text": [
      " [1] \"P1D0\"  \"P1D7\"  \"P1D21\" \"P2D0\"  \"P2D7\"  \"P2D21\" \"P3D0\"  \"P3D7\"  \"P3D21\"\n",
      "[10] \"P4D0\"  \"P4D7\"  \"P4D21\" \"P5D0\"  \"P5D7\"  \"P5D21\" \"P6D0\"  \"P6D7\"  \"P6D21\"\n",
      "[19] \"P7D0\"  \"P7D7\"  \"P7D21\" \"P8D0\"  \"P8D7\"  \"P8D21\"\n"
     ]
    }
   ],
   "source": [
    "sample_ids = unique(csf$sample_id)\n",
    "print(sample_ids)"
   ]
  },
  {
   "cell_type": "code",
   "execution_count": 6,
   "id": "51428570-f359-4e10-a3b3-39fcdc8ab1fb",
   "metadata": {},
   "outputs": [
    {
     "name": "stdout",
     "output_type": "stream",
     "text": [
      "[1] \"P1D0\"\n",
      "[1] \"P1D7\"\n",
      "[1] \"P1D21\"\n",
      "[1] \"P2D0\"\n",
      "[1] \"P2D7\"\n",
      "[1] \"P2D21\"\n",
      "[1] \"P3D0\"\n",
      "[1] \"P3D7\"\n",
      "[1] \"P3D21\"\n",
      "[1] \"P4D0\"\n",
      "[1] \"P4D7\"\n",
      "[1] \"P4D21\"\n",
      "[1] \"P5D0\"\n",
      "[1] \"P5D7\"\n",
      "[1] \"P5D21\"\n",
      "[1] \"P6D0\"\n",
      "[1] \"P6D7\"\n",
      "[1] \"P6D21\"\n",
      "[1] \"P7D0\"\n",
      "[1] \"P7D7\"\n",
      "[1] \"P7D21\"\n",
      "[1] \"P8D0\"\n",
      "[1] \"P8D7\"\n",
      "[1] \"P8D21\"\n"
     ]
    }
   ],
   "source": [
    "# run liana on each sample\n",
    "for (sample_id_use in sample_ids) {\n",
    "    print(sample_id_use)\n",
    "    \n",
    "    filename <- paste0(csf.liana.output.dir, sample_id_use, \"_liana_test.tsv\")\n",
    "\n",
    "    # read in file if it already exists\n",
    "    if (file.exists(filename)) {\n",
    "        next\n",
    "    }\n",
    "\n",
    "    if (downsample) {\n",
    "        csf_subset <- subset(csf, subset = sample_id == sample_id_use, downsample = n.downsample)\n",
    "    } else {\n",
    "        csf_subset = subset(csf, subset = sample_id == sample_id_use)\n",
    "    }\n",
    "    print(dim(csf_subset))\n",
    "    print(table(csf_subset$cell_type_broad))\n",
    "    \n",
    "    liana_test <- liana_wrap(csf_subset, idents_col = cell.type.col)\n",
    "    liana_test <- liana_test %>%\n",
    "        liana_aggregate()\n",
    "    write.table(liana_test, filename, sep = \"\\t\", quote=F, col.names=T, row.names=F)\n",
    "}"
   ]
  },
  {
   "cell_type": "code",
   "execution_count": 7,
   "id": "21d654d5-f6d3-4e71-91c6-ddfb12f76ccb",
   "metadata": {},
   "outputs": [],
   "source": [
    "# read in LIANA results and aggregate all samples\n",
    "filename <- paste0(csf.liana.output.dir, \"all_samples_combined_unfiltered_liana.tsv\")\n",
    "if (!file.exists(filename)) {\n",
    "    \n",
    "    liana_combined <- data.frame()\n",
    "    for (sample_id_use in sample_ids) {\n",
    "    \n",
    "        liana_test <- read.csv(paste0(csf.liana.output.dir, sample_id_use, \"_liana_test.tsv\"), sep = \"\\t\")\n",
    "    \n",
    "        patient_id <- unlist(str_split(sample_id_use, \"D\"))[1]\n",
    "        day <- paste0(\"D\", unlist(str_split(sample_id_use, \"D\"))[2])\n",
    "    \n",
    "        # add metadata\n",
    "        liana_test$sample_id <- sample_id_use\n",
    "        liana_test$Patient <- patient_id\n",
    "        liana_test$Day <- day\n",
    "    \n",
    "        response.status <- 'progression'\n",
    "        if (patient_id %in% c('P2', 'P3', 'P7','P4')) {\n",
    "            response.status <- 'responder'\n",
    "        }\n",
    "        liana_test$response.status <- response.status\n",
    "        liana_combined <- rbind(liana_combined, liana_test)\n",
    "    }\n",
    "    liana_combined <- liana_combined %>% mutate(label = paste0(source, \":\", ligand.complex, \" -> \", target, \":\", receptor.complex))\n",
    "    liana_combined <- liana_combined %>% mutate(interaction.label = paste0(ligand.complex, \" -> \", receptor.complex))\n",
    "    liana_combined$significance.level <- sapply(liana_combined$aggregate_rank, function(x) case_when(\n",
    "        x <= 0.05 ~ \"<= 0.05\",\n",
    "        x <= 0.1 ~ \"<= 0.1\",\n",
    "        TRUE ~ \"> 0.1\"\n",
    "    ))\n",
    "    \n",
    "    write.table(liana_combined, filename, sep = \"\\t\", quote=F, col.names=T, row.names=F)\n",
    "} else {\n",
    "\n",
    "    # read in aggregated file if it already exists\n",
    "    liana_combined <- read.csv(filename, sep = \"\\t\")\n",
    "}"
   ]
  },
  {
   "cell_type": "code",
   "execution_count": 8,
   "id": "774a498e-ea98-4234-b7f5-ec0cdb911981",
   "metadata": {},
   "outputs": [],
   "source": [
    "liana_combined$Day <- factor(liana_combined$Day, levels=c(\"D0\", \"D7\", \"D21\"))\n",
    "liana_combined$response.status <- sapply(liana_combined$Patient, function(x) ifelse(x %in% c(\"P3\", \"P4\", \"P7\", \"P2\"), \"Responder\", \"Non-responder\"))\n",
    "liana_combined$response.status <- factor(liana_combined$response.status, levels = c(\"Non-responder\", \"Responder\"))\n"
   ]
  },
  {
   "cell_type": "code",
   "execution_count": 9,
   "id": "3ee9d81e-878d-4513-8f85-4fcfb3989b8c",
   "metadata": {},
   "outputs": [],
   "source": [
    "# swap CTLA4 from receptor to ligand\n",
    "swapped.df <- liana_combined %>% filter(receptor.complex == \"CTLA4\") %>% rename(target = source, source = target, receptor.complex = ligand.complex, ligand.complex = receptor.complex)\n",
    "other.df <- liana_combined %>% filter(receptor.complex != \"CTLA4\")\n",
    "liana_combined <- rbind(other.df, swapped.df)\n",
    "liana_combined <- liana_combined %>% mutate(label = paste0(source, \":\", ligand.complex, \" -> \", target, \":\", receptor.complex))\n",
    "liana_combined <- liana_combined %>% mutate(interaction.label = paste0(ligand.complex, \" -> \", receptor.complex))"
   ]
  },
  {
   "cell_type": "code",
   "execution_count": 10,
   "id": "78277c1e-f31b-4968-b961-7d5b579bed13",
   "metadata": {},
   "outputs": [],
   "source": [
    "immune.checkpoints <- list(c(\"TGFB1\", \"TGFBR1_TGFBR2\"),\n",
    "                           c(\"BTLA\", \"TNFRSF14\"),\n",
    "                           c(\"TNFSF18\", \"TNFRSF18\"),\n",
    "                           c(\"CTLA4\", \"CD80\"),\n",
    "                           c(\"CTLA4\", \"CD86\"),\n",
    "                           c(\"ENTPD1\", \"ADORA2A\"),\n",
    "                           c(\"CD274\", \"PDCD1\"),\n",
    "                           c(\"PDCD1LG2\", \"PDCD1\"),\n",
    "                           c(\"LGALS9\", \"HAVCR2\"),\n",
    "                           c(\"HLA-DPA1\", \"LAG3\"),\n",
    "                           c(\"CD80\", \"CD28\"),\n",
    "                           c(\"CD86\", \"CD28\"),\n",
    "                           c(\"CD40LG\", \"CD40\"),\n",
    "                           c(\"TNFSF4\", \"TNFRSF4\"), # OX40\n",
    "                           c(\"TNFSF9\", \"TNFRSF9\"), # 41BB\n",
    "                           c(\"ICOSLG\", \"CD278\"), # ICOS\n",
    "                           c(\"CD70\", \"CD27\")\n",
    "                          )\n",
    "canonical.interactions <- sapply(immune.checkpoints, function(x) paste0(x[1], \" -> \", x[2])) "
   ]
  },
  {
   "cell_type": "code",
   "execution_count": 11,
   "id": "813261d2-b558-4793-b5f4-0f7b8420b9a7",
   "metadata": {},
   "outputs": [],
   "source": [
    "plot.canonical.interactions <- function(liana_df, filepath, cell.types, interactions.use=immune.checkpoints, \n",
    "                                        levels.interactions=canonical.interactions, \n",
    "                                        levels.celltypes = NA,\n",
    "                                        facet.by.source=T, timepoint.var = \"Day\",\n",
    "                                        plot.width = 30, plot.height = NA) {\n",
    "\n",
    "    \n",
    "    plot.list <- list()\n",
    "    for (s in cell.types) {\n",
    "\n",
    "        if (facet.by.source) {\n",
    "            liana_filter_df <- liana_df %>% dplyr::filter(source==s)\n",
    "        } else {\n",
    "            liana_filter_df <- liana_df %>% dplyr::filter(target==s)\n",
    "        }\n",
    "        \n",
    "        interactions.df <- data.frame()\n",
    "        for (i in 1:length(interactions.use)) {\n",
    "            ligand <- interactions.use[[i]][1]\n",
    "            receptor <- interactions.use[[i]][2]\n",
    "            temp <- liana_filter_df %>% dplyr::filter(ligand.complex == ligand, receptor.complex == receptor)\n",
    "            interactions.df <- rbind(interactions.df, temp)\n",
    "        }\n",
    "        # add 0 for missing data\n",
    "        interactions.df <- interactions.df %>% complete(source, target, nesting(ligand.complex, receptor.complex, interaction.label), \n",
    "                                                        .data[[timepoint.var]], nesting(Patient, response.status), fill = \n",
    "                                                        list(sca.LRscore = 0, natmi.edge_specificity = 0))\n",
    "\n",
    "\n",
    "        interactions.df$y <- interactions.df$sca.LRscore \n",
    "    \n",
    "        df <- interactions.df \n",
    "\n",
    "        if(nrow(interactions.df) == 0) {\n",
    "            next\n",
    "        }\n",
    "        \n",
    "        if (!all(is.na(levels.interactions))) {\n",
    "            df$interaction.label <- factor(df$interaction.label, levels = canonical.interactions)\n",
    "        }\n",
    "\n",
    "        if (!all(is.na(levels.celltypes))) {\n",
    "            df$target <- factor(df$target, levels = levels.celltypes)\n",
    "        }\n",
    "    \n",
    "        df$`Interaction strength` <- df$sca.LRscore \n",
    "        df$`Interaction specificity` <- df$natmi.edge_specificity\n",
    "        df$Patient <- factor(df$Patient, levels = all.patients)\n",
    "\n",
    "        if (facet.by.source) {\n",
    "            x <- \"target\"\n",
    "            x.label <- \"Target\"\n",
    "        } else {\n",
    "            x <- \"source\"\n",
    "            x.label <- \"Source\"\n",
    "        }\n",
    "\n",
    "        p <- ggplot(df, aes(.data[[x]], interaction.label)) +\n",
    "            geom_point(aes(\n",
    "                           fill = `Interaction strength`, \n",
    "                           size = `Interaction specificity`),\n",
    "                      shape = 21, stroke = 0.8) +\n",
    "            theme_bw() +\n",
    "            theme(axis.text.x = element_text(angle = 45, hjust = 1)) +\n",
    "            scale_fill_viridis_c(limits = c(0, 1)) +\n",
    "            scale_size(\n",
    "                limits = c(0, 1),\n",
    "                range = c(0, 10),    \n",
    "                breaks = c(0, 0.2, 0.4, 0.6, 0.8, 1),\n",
    "            ) +\n",
    "            facet_grid(cols=vars(Patient), rows=vars(.data[[timepoint.var]])) +\n",
    "            xlab(x.label) +\n",
    "            ylab(\"Interaction\")\n",
    "\n",
    "        plot.list[[s]] <- p\n",
    "    }\n",
    "\n",
    "    if (length(plot.list) == 0) {\n",
    "        print(\"no interactions\")\n",
    "    } else {\n",
    "        if (length(plot.list) > 1) {                                                              \n",
    "            p <- plot_grid(plotlist = plot.list, ncol = 1, labels = names(plot.list))\n",
    "        } else {\n",
    "            p <- p + ggtitle(names(plot.list))\n",
    "        }\n",
    "        \n",
    "        if (is.na(plot.height)) {\n",
    "            plot.height <- length(plot.list) * 10\n",
    "        }\n",
    "        pdf(filepath, width = plot.width, height = plot.height)\n",
    "        print(p)\n",
    "        dev.off()\n",
    "    }\n",
    "}"
   ]
  },
  {
   "cell_type": "code",
   "execution_count": 12,
   "id": "2468c81e-8025-4f6b-be55-6e3a339d37d1",
   "metadata": {},
   "outputs": [],
   "source": [
    "plot.canonical.interactions.patients.aggregated <- function(liana_df, filepath, cell.types, timepoint.of.interest, interactions.use=immune.checkpoints, \n",
    "                                        levels.interactions=canonical.interactions, \n",
    "                                        levels.celltypes = NA,\n",
    "                                        facet.by.source=T, timepoint.var = \"Day\",\n",
    "                                        plot.width = 30, plot.height = NA) {\n",
    "\n",
    "    plot.list <- list()\n",
    "    for (s in cell.types) {\n",
    "\n",
    "        if (facet.by.source) {\n",
    "            liana_filter_df <- liana_df %>% dplyr::filter(source==s)\n",
    "        } else {\n",
    "            liana_filter_df <- liana_df %>% dplyr::filter(target==s)\n",
    "        }\n",
    "        \n",
    "        interactions.df <- data.frame()\n",
    "        for (i in 1:length(interactions.use)) {\n",
    "            ligand <- interactions.use[[i]][1]\n",
    "            receptor <- interactions.use[[i]][2]\n",
    "            temp <- liana_filter_df %>% dplyr::filter(ligand.complex == ligand, receptor.complex == receptor, .data[[timepoint.var]] == timepoint.of.interest)\n",
    "            interactions.df <- rbind(interactions.df, temp)\n",
    "        }\n",
    "        # add 0 for missing data\n",
    "        interactions.df <- interactions.df %>% complete(source, target, nesting(ligand.complex, receptor.complex, interaction.label), \n",
    "                                                        nesting(Patient, response.status), fill = \n",
    "                                                        list(sca.LRscore = 0, natmi.edge_specificity = 0))\n",
    "\n",
    "        if(nrow(interactions.df) == 0) {\n",
    "            next\n",
    "        }\n",
    "\n",
    "        df <- interactions.df %>% \n",
    "            group_by(source, target, ligand.complex, receptor.complex, interaction.label) %>% \n",
    "            summarize(mean.sca.LRscore = mean(sca.LRscore),\n",
    "                      mean.natmi.edge_specificity = mean(natmi.edge_specificity)) %>%\n",
    "            ungroup()\n",
    "        \n",
    "        df$y <- df$mean.sca.LRscore\n",
    "                \n",
    "        if (!all(is.na(levels.interactions))) {\n",
    "            df$interaction.label <- factor(df$interaction.label, levels = canonical.interactions)\n",
    "        }\n",
    "\n",
    "        if (!all(is.na(levels.celltypes))) {\n",
    "            df$target <- factor(df$target, levels = levels.celltypes)\n",
    "        }\n",
    "        \n",
    "        df$`Interaction strength` <- df$mean.sca.LRscore \n",
    "        df$`Interaction specificity` <- df$mean.natmi.edge_specificity\n",
    "\n",
    "        if (facet.by.source) {\n",
    "            x <- \"target\"\n",
    "            x.label <- \"Target\"\n",
    "        } else {\n",
    "            x <- \"source\"\n",
    "            x.label <- \"Source\"\n",
    "        }\n",
    "\n",
    "        p <- ggplot(df, aes(.data[[x]], interaction.label)) +\n",
    "            geom_point(aes(\n",
    "                           fill = `Interaction strength`, \n",
    "                           size = `Interaction specificity`),\n",
    "                      shape = 21, stroke = 0.8) +\n",
    "            theme_bw() +\n",
    "            theme(axis.text.x = element_text(angle = 45, hjust = 1)) +\n",
    "            scale_fill_viridis_c(limits = c(0, 1)) +\n",
    "            scale_size(\n",
    "                limits = c(0, 0.1),\n",
    "                range = c(0, 8),    \n",
    "                breaks = c(0, 0.025, 0.05, 0.075, 0.1), # the size scaling can be customized as needed\n",
    "            ) +\n",
    "            ylab(\"Interaction\") +\n",
    "            xlab(x.label)\n",
    "    \n",
    "        plot.list[[s]] <- p\n",
    "    }\n",
    "    \n",
    "    if (length(plot.list) == 0) {\n",
    "        print(\"no interactions\")\n",
    "    } else {\n",
    "        if (length(plot.list) > 1) {                                                              \n",
    "            p <- plot_grid(plotlist = plot.list, ncol = 1, labels = names(plot.list))\n",
    "        } else {\n",
    "            p <- p + ggtitle(paste0(names(plot.list), \" interactions at \", timepoint.of.interest))\n",
    "        }\n",
    "        \n",
    "        if (is.na(plot.height)) {\n",
    "            plot.height <- length(plot.list) * 10\n",
    "        }\n",
    "        pdf(filepath, width = plot.width, height = plot.height)\n",
    "        print(p)\n",
    "        dev.off()\n",
    "    }\n",
    "}"
   ]
  },
  {
   "cell_type": "code",
   "execution_count": 13,
   "id": "da9f07f1-c978-4fd1-921b-6acd254e6967",
   "metadata": {},
   "outputs": [
    {
     "data": {
      "text/html": [
       "<strong>pdf:</strong> 2"
      ],
      "text/latex": [
       "\\textbf{pdf:} 2"
      ],
      "text/markdown": [
       "**pdf:** 2"
      ],
      "text/plain": [
       "pdf \n",
       "  2 "
      ]
     },
     "metadata": {},
     "output_type": "display_data"
    }
   ],
   "source": [
    "# Supplemental Figure 7A\n",
    "plot.canonical.interactions(liana_df=liana_combined, filepath = paste0(csf.liana.figures.dir, \"supp/\", \"Supp 7A immune checkpoints Treg as source.pdf\"), cell.types=c(\"Treg\"))\n"
   ]
  },
  {
   "cell_type": "code",
   "execution_count": 14,
   "id": "f29890be-ffb9-4860-b0dc-ee476032cbae",
   "metadata": {},
   "outputs": [],
   "source": [
    "# canonical Treg interactions\n",
    "treg.interactions <- list(\n",
    "                           c(\"CTLA4\", \"CD80\"),\n",
    "                           c(\"CTLA4\", \"CD86\"),\n",
    "                           c(\"LGALS9\", \"HAVCR2\"),\n",
    "                           c(\"CD70\", \"CD27\")\n",
    "                          )"
   ]
  },
  {
   "cell_type": "code",
   "execution_count": 15,
   "id": "83fda520-d012-4142-9272-461487337fc3",
   "metadata": {},
   "outputs": [],
   "source": [
    "celltypes.use <- c('B', 'NK', 'CD4+ T', 'CD8+ T', 'CD4+ CAR T', 'CD8+ CAR T', 'Cycling CD8+ T', 'Mono/Mac', 'cDC1', 'cDC2', 'mregDC', 'pDC')\n",
    "liana_combined_filtered <- liana_combined %>% filter(target %in% celltypes.use)"
   ]
  },
  {
   "cell_type": "code",
   "execution_count": 16,
   "id": "4a97bdf5-d1c8-4c27-ac0f-5ac86ca929c1",
   "metadata": {},
   "outputs": [
    {
     "name": "stderr",
     "output_type": "stream",
     "text": [
      "\u001b[1m\u001b[22m`summarise()` has grouped output by 'source', 'target', 'ligand.complex',\n",
      "'receptor.complex'. You can override using the `.groups` argument.\n"
     ]
    },
    {
     "data": {
      "text/html": [
       "<strong>pdf:</strong> 2"
      ],
      "text/latex": [
       "\\textbf{pdf:} 2"
      ],
      "text/markdown": [
       "**pdf:** 2"
      ],
      "text/plain": [
       "pdf \n",
       "  2 "
      ]
     },
     "metadata": {},
     "output_type": "display_data"
    }
   ],
   "source": [
    "# Figure 6G\n",
    "plot.canonical.interactions.patients.aggregated(liana_df=liana_combined_filtered, filepath = paste0(csf.liana.figures.dir, \"6G Day 7 Treg interactions Treg as source aggregated.pdf\"), \n",
    "                            cell.types=c(\"Treg\"), timepoint.of.interest=\"D7\", interactions.use = treg.interactions, levels.celltypes = celltypes.use, plot.width=8, plot.height = 4)"
   ]
  },
  {
   "cell_type": "code",
   "execution_count": 17,
   "id": "3aecdaf4-333a-4cfb-9a73-9fcf93d16db2",
   "metadata": {},
   "outputs": [
    {
     "data": {
      "text/html": [
       "<strong>pdf:</strong> 2"
      ],
      "text/latex": [
       "\\textbf{pdf:} 2"
      ],
      "text/markdown": [
       "**pdf:** 2"
      ],
      "text/plain": [
       "pdf \n",
       "  2 "
      ]
     },
     "metadata": {},
     "output_type": "display_data"
    }
   ],
   "source": [
    "# Figure 6I\n",
    "p <- DotPlot(csf, features = c(\"CTLA4\"), group.by = \"cell_type\") + ggtitle(\"CTLA4 expression in CSF\") + xlab(\"\") + ylab(\"\") + coord_flip() +\n",
    "  theme(axis.text.x = element_text(angle = 45, hjust = 1))\n",
    "pdf(paste0(csf.liana.figures.dir, \"6I Treg CTLA4 gene expression.pdf\"), width = 8, height = 5) \n",
    "print(p)\n",
    "dev.off()"
   ]
  },
  {
   "cell_type": "code",
   "execution_count": 18,
   "id": "b82a70bb-c777-4759-aa42-9f61faf2a046",
   "metadata": {},
   "outputs": [],
   "source": [
    "plot.specific.interaction.specific.timepoint <- function(df, filepath, ligand.of.interest, receptor.of.interest, \n",
    "                             source.of.interest, targets.of.interest, timepoint.of.interest, timepoint.var=\"Day\",\n",
    "                             plot.width = 6, plot.height = 6) {\n",
    "\n",
    "    plot.list <- list()\n",
    "    for (target.of.interest in targets.of.interest) {\n",
    "        \n",
    "        interactions.df <- df %>% filter(ligand.complex == ligand.of.interest, receptor.complex == receptor.of.interest, \n",
    "                                         source == source.of.interest, target == target.of.interest, .data[[timepoint.var]] == timepoint.of.interest)\n",
    "        interactions.df$y <- interactions.df$sca.LRscore \n",
    "        plot.title <- paste0(timepoint.of.interest, \": \", source.of.interest, \" \", ligand.of.interest, \" -> \", receptor.of.interest, \" \", target.of.interest)\n",
    "        \n",
    "        # add 0 for missing data\n",
    "        interactions.df <- interactions.df %>% complete(source, target, nesting(ligand.complex, receptor.complex, interaction.label), nesting(Patient=all.patients, response.status=c(rep(\"Non-responder\", 4), rep(\"Responder\", 4))), fill = list(y = 0))\n",
    "        \n",
    "        # plot interaction strength\n",
    "        stat.test <- interactions.df %>%\n",
    "          wilcox_test(y ~ response.status) %>%\n",
    "          adjust_pvalue(method = \"fdr\") %>%\n",
    "          add_significance(\"p.adj\") %>%\n",
    "          add_y_position()\n",
    "        \n",
    "        p <- ggplot(interactions.df, aes(response.status, y)) +\n",
    "            geom_boxplot(outlier.shape = NA) + \n",
    "            geom_point(aes(fill = Patient), \n",
    "                       position = position_jitterdodge(jitter.width=0.2),\n",
    "                       shape = 21, stroke = 1\n",
    "                      ) + \n",
    "            theme_bw() +\n",
    "            xlab(\"Response status\") +\n",
    "            ylab(\"Interaction strength\") +\n",
    "            scale.fill.patient +\n",
    "            ggtitle(plot.title) +\n",
    "            stat_pvalue_manual(stat.test, label = \"p.adj\", tip.length = 0)\n",
    "                \n",
    "        plot.list[[target.of.interest]] <- p\n",
    "    }\n",
    "\n",
    "    if (length(plot.list) > 1) {\n",
    "        p <- plot_grid(plotlist = plot.list)\n",
    "    }\n",
    "    \n",
    "    pdf(filepath, width = plot.width, height = plot.height)\n",
    "    print(p)\n",
    "    dev.off()\n",
    "\n",
    "}"
   ]
  },
  {
   "cell_type": "code",
   "execution_count": 19,
   "id": "a4a63647-1ae8-46ba-8dd3-790448c76293",
   "metadata": {},
   "outputs": [
    {
     "data": {
      "text/html": [
       "<strong>pdf:</strong> 2"
      ],
      "text/latex": [
       "\\textbf{pdf:} 2"
      ],
      "text/markdown": [
       "**pdf:** 2"
      ],
      "text/plain": [
       "pdf \n",
       "  2 "
      ]
     },
     "metadata": {},
     "output_type": "display_data"
    }
   ],
   "source": [
    "# Figure 6H\n",
    "plot.specific.interaction.specific.timepoint(df=liana_combined, filepath=paste0(csf.liana.figures.dir, \"6H Day 7 Treg LGALS9 -> HAVCR2 MonoMac.pdf\"), \n",
    "                 ligand.of.interest=\"LGALS9\", receptor.of.interest=\"HAVCR2\", source.of.interest=\"Treg\", \n",
    "                 targets.of.interest = \"Mono/Mac\", timepoint.of.interest = \"D7\")"
   ]
  },
  {
   "cell_type": "code",
   "execution_count": 20,
   "id": "f1f51e5e-df47-44d2-973d-2c634f8fdb8d",
   "metadata": {},
   "outputs": [],
   "source": [
    "plot.gene.expression.specific.timepoint <- function(seurat.obj, gene.of.interest, celltypes.use, timepoint.of.interest, filepath, timepoint.var = \"Day\", plot.width=6, plot.height=6) {\n",
    "\n",
    "    plot.list <- list()\n",
    "    for (celltype in celltypes.use) {\n",
    "    \n",
    "        seurat.obj$gene.of.interest <- seurat.obj[[gene.of.interest]]\n",
    "        gene.df <- seurat.obj@meta.data %>% \n",
    "            filter(cell_type == celltype, .data[[timepoint.var]] == timepoint.of.interest) %>%\n",
    "            group_by(sample_id, Patient, response.status) %>% \n",
    "            summarize(mean.expression = mean(gene.of.interest)) %>%\n",
    "            ungroup()\n",
    "\n",
    "        stat.test <- gene.df %>%\n",
    "          wilcox_test(mean.expression ~ response.status) %>%\n",
    "          adjust_pvalue(method = \"fdr\") %>%\n",
    "          add_significance(\"p.adj\") %>%\n",
    "          add_y_position()\n",
    "        \n",
    "        p <- ggplot(gene.df, aes(response.status, mean.expression)) +\n",
    "            geom_boxplot(outlier.shape = NA) + \n",
    "            geom_point(aes(fill = Patient), \n",
    "                       position = position_jitterdodge(jitter.width=0.2),\n",
    "                       shape = 21, stroke = 1\n",
    "                      ) + \n",
    "            theme_bw() +\n",
    "            scale.fill.patient +\n",
    "            ylab(gene.of.interest) +\n",
    "            xlab(\"Response status\") +\n",
    "            ggtitle(paste0(gene.of.interest, \" expression in \", celltype, \" at \", timepoint.of.interest)) +\n",
    "            stat_pvalue_manual(stat.test, label = \"p.adj\", tip.length = 0)\n",
    "        \n",
    "        plot.list[[celltype]] <- p\n",
    "    }\n",
    "\n",
    "    p <- plot_grid(plotlist = plot.list)\n",
    "    pdf(filepath, width=plot.width, height=plot.height)\n",
    "    print(p)\n",
    "    dev.off()\n",
    "    \n",
    "}"
   ]
  },
  {
   "cell_type": "code",
   "execution_count": 21,
   "id": "8cd88e65-f9c4-4bae-9449-09b4605bf00a",
   "metadata": {},
   "outputs": [
    {
     "name": "stderr",
     "output_type": "stream",
     "text": [
      "\u001b[1m\u001b[22m`summarise()` has grouped output by 'sample_id', 'Patient'. You can override\n",
      "using the `.groups` argument.\n"
     ]
    },
    {
     "data": {
      "text/html": [
       "<strong>pdf:</strong> 2"
      ],
      "text/latex": [
       "\\textbf{pdf:} 2"
      ],
      "text/markdown": [
       "**pdf:** 2"
      ],
      "text/plain": [
       "pdf \n",
       "  2 "
      ]
     },
     "metadata": {},
     "output_type": "display_data"
    },
    {
     "name": "stderr",
     "output_type": "stream",
     "text": [
      "\u001b[1m\u001b[22m`summarise()` has grouped output by 'sample_id', 'Patient'. You can override\n",
      "using the `.groups` argument.\n"
     ]
    },
    {
     "data": {
      "text/html": [
       "<strong>pdf:</strong> 2"
      ],
      "text/latex": [
       "\\textbf{pdf:} 2"
      ],
      "text/markdown": [
       "**pdf:** 2"
      ],
      "text/plain": [
       "pdf \n",
       "  2 "
      ]
     },
     "metadata": {},
     "output_type": "display_data"
    }
   ],
   "source": [
    "data <- FetchData(csf, vars = c(\"LGALS9\", \"HAVCR2\"))\n",
    "csf <- AddMetaData(csf, data)\n",
    "\n",
    "# Supplemental Figure 7B\n",
    "plot.gene.expression.specific.timepoint(seurat.obj=csf, gene.of.interest = \"LGALS9\", celltypes.use = \"Treg\", timepoint.of.interest = \"D7\", filepath = paste0(csf.liana.figures.dir, \"supp/\", \"Supp 7B LGALS9 expression on Treg Day7.pdf\")) \n",
    "\n",
    "# Supplemental Figure 7C\n",
    "plot.gene.expression.specific.timepoint(seurat.obj=csf, gene.of.interest = \"HAVCR2\", celltypes.use = \"Mono/Mac\", timepoint.of.interest = \"D7\", filepath = paste0(csf.liana.figures.dir, \"supp/\", \"Supp 7C HAVCR2 expression on MonoMac Day7.pdf\"))\n"
   ]
  },
  {
   "cell_type": "markdown",
   "id": "3808d424-9dc0-49cf-abb7-e0f195327d50",
   "metadata": {},
   "source": [
    "# Plot exhaustion/activation signatures"
   ]
  },
  {
   "cell_type": "code",
   "execution_count": 22,
   "id": "f4457d3c-63bf-42e5-9cc2-e85b497e05d2",
   "metadata": {},
   "outputs": [],
   "source": [
    "wherry_signatures <- read.csv(paste0(root.dir, \"Resources/\", \"wherry_pace_signatures.csv\"))\n",
    "effector.signature <- wherry_signatures %>% pull(Pace_effector_markers)\n",
    "effector.signature <- effector.signature[effector.signature != \"\"]\n",
    "exhaustion.signature <- wherry_signatures %>% pull(Wherry_exhaustion_markers)"
   ]
  },
  {
   "cell_type": "code",
   "execution_count": 23,
   "id": "14d74955-df42-4e19-91e8-1089e2238618",
   "metadata": {},
   "outputs": [
    {
     "name": "stderr",
     "output_type": "stream",
     "text": [
      "Warning message:\n",
      "“\u001b[1m\u001b[22mThe `slot` argument of `GetAssayData()` is deprecated as of SeuratObject 5.0.0.\n",
      "\u001b[36mℹ\u001b[39m Please use the `layer` argument instead.\n",
      "\u001b[36mℹ\u001b[39m The deprecated feature was likely used in the \u001b[34mSeurat\u001b[39m package.\n",
      "  Please report the issue at \u001b[3m\u001b[34m<https://github.com/satijalab/seurat/issues>\u001b[39m\u001b[23m.”\n",
      "Warning message:\n",
      "“The following features are not present in the object: CCL9, KLRA9, ATPIF1, attempting to find updated synonyms”\n",
      "Found updated symbols for 1 symbols\n",
      "\n",
      "ATPIF1 -> ATP5IF1\n",
      "\n",
      "Warning message:\n",
      "“The following features are still not present in the object: CCL9, KLRA9”\n",
      "Warning message:\n",
      "“The following features are not present in the object: GP49B, GLYCOP, TNFSF6, MOX2, GPR56, PRKWNK, ITPR5, G1P2, ICSBP1, SERPINA, TCRGG-V4, TCRB-V1, ZFP9H1, HIST1H2, CAR2, CYP4V3, C76628, SFRS7, MTV43, C79248, PENK1, A43010, SEPTIN, RCN, WBP5, PBEF1, KDT1, HRB, TUBB2, SCL29A1, attempting to find updated synonyms”\n",
      "Found updated symbols for 11 symbols\n",
      "\n",
      "TNFSF6 -> FASLG\n",
      "MOX2 -> CD200\n",
      "GPR56 -> ADGRG1\n",
      "G1P2 -> ISG15\n",
      "ICSBP1 -> IRF8\n",
      "SFRS7 -> SRSF7\n",
      "RCN -> RCN1\n",
      "WBP5 -> TCEAL9\n",
      "PBEF1 -> NAMPT\n",
      "HRB -> AGFG1\n",
      "TUBB2 -> TUBB2A\n",
      "\n",
      "Warning message:\n",
      "“The following features are still not present in the object: GP49B, GLYCOP, PRKWNK, ITPR5, SERPINA, TCRGG-V4, TCRB-V1, ZFP9H1, HIST1H2, CAR2, CYP4V3, C76628, MTV43, C79248, PENK1, A43010, SEPTIN, KDT1, SCL29A1”\n"
     ]
    }
   ],
   "source": [
    "gene.signatures <- list()\n",
    "gene.signatures[[\"effector.signature\"]] <- effector.signature\n",
    "gene.signatures[[\"exhaustion.signature\"]] <- exhaustion.signature\n",
    "csf <- AddModuleScore(csf, feature=gene.signatures, name=names(gene.signatures), search = T)\n",
    "csf@meta.data <- csf@meta.data %>% rename(effector.signature=effector.signature1, exhaustion.signature=exhaustion.signature2)\n",
    "\n",
    "csf$response.status <- sapply(csf$Patient, function(x) ifelse(x %in% c(\"P3\", \"P4\", \"P7\", \"P2\"), \"Responder\", \"Non-responder\"))\n",
    "csf$response.status <- factor(csf$response.status, levels = c(\"Non-responder\", \"Responder\"))"
   ]
  },
  {
   "cell_type": "code",
   "execution_count": 24,
   "id": "b5e8d4e1-ae66-4295-841f-9ec8bf85c8f2",
   "metadata": {},
   "outputs": [],
   "source": [
    "data <- FetchData(csf, vars = c(\"HLA-DRA\", \"ENTPD1\", \"CTLA4\", \"PDCD1\"))\n",
    "csf <- AddMetaData(csf, data)"
   ]
  },
  {
   "cell_type": "code",
   "execution_count": 25,
   "id": "ca42cf74-7e4d-43a4-99bd-531902de8f31",
   "metadata": {},
   "outputs": [
    {
     "name": "stderr",
     "output_type": "stream",
     "text": [
      "\u001b[1m\u001b[22m`summarise()` has grouped output by 'cell_type', 'sample_id', 'Patient'. You\n",
      "can override using the `.groups` argument.\n",
      "\u001b[1m\u001b[22m`summarise()` has grouped output by 'cell_type', 'sample_id', 'Patient'. You\n",
      "can override using the `.groups` argument.\n",
      "\u001b[1m\u001b[22m`summarise()` has grouped output by 'cell_type', 'sample_id', 'Patient'. You\n",
      "can override using the `.groups` argument.\n",
      "\u001b[1m\u001b[22m`summarise()` has grouped output by 'cell_type', 'sample_id', 'Patient'. You\n",
      "can override using the `.groups` argument.\n",
      "\u001b[1m\u001b[22m`summarise()` has grouped output by 'cell_type', 'sample_id', 'Patient'. You\n",
      "can override using the `.groups` argument.\n",
      "\u001b[1m\u001b[22m`summarise()` has grouped output by 'cell_type', 'sample_id', 'Patient'. You\n",
      "can override using the `.groups` argument.\n"
     ]
    },
    {
     "data": {
      "text/html": [
       "<strong>pdf:</strong> 2"
      ],
      "text/latex": [
       "\\textbf{pdf:} 2"
      ],
      "text/markdown": [
       "**pdf:** 2"
      ],
      "text/plain": [
       "pdf \n",
       "  2 "
      ]
     },
     "metadata": {},
     "output_type": "display_data"
    }
   ],
   "source": [
    "# Figure 6J\n",
    "genes.of.interest <- c(\"HLA-DRA\", \"ENTPD1\", \"CTLA4\",  \"effector.signature\", \"PDCD1\", \"exhaustion.signature\")\n",
    "\n",
    "plot.list <- list()\n",
    "celltype <- \"CD8+ T\"\n",
    "day <- \"D7\"\n",
    "timepoint.var <- \"Day\"\n",
    "seurat.obj <- csf\n",
    "\n",
    "for (gene.of.interest in genes.of.interest) {\n",
    "\n",
    "    seurat.obj$gene.of.interest <- seurat.obj[[gene.of.interest]]\n",
    "    gene.df <- seurat.obj@meta.data %>% \n",
    "        filter(cell_type == celltype, .data[[timepoint.var]] == day) %>%\n",
    "        group_by(cell_type, sample_id, Patient, response.status) %>% \n",
    "        summarize(mean.expression = mean(gene.of.interest)) %>%\n",
    "        ungroup()\n",
    "    \n",
    "    stat.test <- gene.df %>%\n",
    "      wilcox_test(mean.expression ~ response.status) %>%\n",
    "      adjust_pvalue(method = \"fdr\") %>%\n",
    "      add_significance(\"p.adj\") %>%\n",
    "      add_y_position()\n",
    "\n",
    "\n",
    "    if (gene.of.interest == \"effector.signature\") {\n",
    "        gene.of.interest <- \"Effector signature\"\n",
    "    } else if (gene.of.interest == \"exhaustion.signature\") {\n",
    "        gene.of.interest <- \"Exhaustion signature\"\n",
    "    }\n",
    "    \n",
    "    p <- ggplot(gene.df, aes(response.status, mean.expression)) +\n",
    "        geom_boxplot(outlier.shape = NA) + \n",
    "        geom_point(aes(fill = Patient), \n",
    "                   position = position_jitter(width=0.2),\n",
    "                   shape = 21, stroke = 1\n",
    "                  ) + \n",
    "        theme_bw() +\n",
    "        scale.fill.patient +\n",
    "        ylab(\"Expression level\") +\n",
    "        ggtitle(gene.of.interest) +\n",
    "        stat_pvalue_manual(stat.test, label = \"p.adj\", tip.length = 0) +\n",
    "        xlab(\"Response status\")\n",
    "    \n",
    "    plot.list[[gene.of.interest]] <- p\n",
    "}\n",
    "\n",
    "p <- plot_grid(plotlist = plot.list)\n",
    "pdf(paste0(csf.liana.figures.dir, \"6J CD8+ T Day 7 marker expression.pdf\"), width=12, height=9)\n",
    "print(p)\n",
    "dev.off()"
   ]
  },
  {
   "cell_type": "code",
   "execution_count": 26,
   "id": "85c95f91-5248-494b-ae8c-2018f74668f7",
   "metadata": {},
   "outputs": [
    {
     "data": {
      "text/plain": [
       "R version 4.3.2 (2023-10-31)\n",
       "Platform: aarch64-unknown-linux-gnu (64-bit)\n",
       "Running under: Ubuntu 22.04.3 LTS\n",
       "\n",
       "Matrix products: default\n",
       "BLAS:   /usr/lib/aarch64-linux-gnu/openblas-pthread/libblas.so.3 \n",
       "LAPACK: /usr/lib/aarch64-linux-gnu/openblas-pthread/libopenblasp-r0.3.20.so;  LAPACK version 3.10.0\n",
       "\n",
       "locale:\n",
       " [1] LC_CTYPE=en_US.UTF-8       LC_NUMERIC=C              \n",
       " [3] LC_TIME=en_US.UTF-8        LC_COLLATE=en_US.UTF-8    \n",
       " [5] LC_MONETARY=en_US.UTF-8    LC_MESSAGES=en_US.UTF-8   \n",
       " [7] LC_PAPER=en_US.UTF-8       LC_NAME=C                 \n",
       " [9] LC_ADDRESS=C               LC_TELEPHONE=C            \n",
       "[11] LC_MEASUREMENT=en_US.UTF-8 LC_IDENTIFICATION=C       \n",
       "\n",
       "time zone: Etc/UTC\n",
       "tzcode source: system (glibc)\n",
       "\n",
       "attached base packages:\n",
       "[1] stats     graphics  grDevices utils     datasets  methods   base     \n",
       "\n",
       "other attached packages:\n",
       " [1] rstatix_0.7.2      pals_1.10          cowplot_1.1.3      ggpubr_0.6.0      \n",
       " [5] ggplot2_3.5.2      tidyr_1.3.1        dplyr_1.1.4        liana_0.1.14      \n",
       " [9] Seurat_5.3.0       SeuratObject_5.1.0 sp_2.2-0          \n",
       "\n",
       "loaded via a namespace (and not attached):\n",
       "  [1] fs_1.6.6                    matrixStats_1.5.0          \n",
       "  [3] spatstat.sparse_3.1-0       bitops_1.0-9               \n",
       "  [5] lubridate_1.9.4             httr_1.4.7                 \n",
       "  [7] RColorBrewer_1.1-3          doParallel_1.0.17          \n",
       "  [9] repr_1.1.7                  tools_4.3.2                \n",
       " [11] sctransform_0.4.2           backports_1.5.0            \n",
       " [13] R6_2.6.1                    lazyeval_0.2.2             \n",
       " [15] uwot_0.2.3                  GetoptLong_1.0.5           \n",
       " [17] withr_3.0.2                 prettyunits_1.2.0          \n",
       " [19] gridExtra_2.3               progressr_0.15.1           \n",
       " [21] cli_3.6.5                   Biobase_2.62.0             \n",
       " [23] spatstat.explore_3.4-2      fastDummies_1.7.5          \n",
       " [25] labeling_0.4.3              spatstat.data_3.1-6        \n",
       " [27] readr_2.1.5                 ggridges_0.5.6             \n",
       " [29] pbapply_1.7-2               pbdZMQ_0.3-14              \n",
       " [31] R.utils_2.13.0              dichromat_2.0-0.1          \n",
       " [33] parallelly_1.43.0           sessioninfo_1.2.3          \n",
       " [35] maps_3.4.2.1                limma_3.58.1               \n",
       " [37] readxl_1.4.5                RSQLite_2.3.11             \n",
       " [39] generics_0.1.3              shape_1.4.6.1              \n",
       " [41] ica_1.0-3                   spatstat.random_3.3-3      \n",
       " [43] car_3.1-3                   zip_2.3.2                  \n",
       " [45] Matrix_1.6-4                S4Vectors_0.40.2           \n",
       " [47] logger_0.4.0                abind_1.4-8                \n",
       " [49] R.methodsS3_1.8.2           lifecycle_1.0.4            \n",
       " [51] edgeR_4.0.3                 yaml_2.3.10                \n",
       " [53] carData_3.0-5               SummarizedExperiment_1.32.0\n",
       " [55] SparseArray_1.2.4           Rtsne_0.17                 \n",
       " [57] grid_4.3.2                  blob_1.2.4                 \n",
       " [59] dqrng_0.4.1                 promises_1.3.2             \n",
       " [61] crayon_1.5.3                dir.expiry_1.8.0           \n",
       " [63] miniUI_0.1.2                lattice_0.21-9             \n",
       " [65] beachmat_2.18.1             mapproj_1.2.11             \n",
       " [67] metapod_1.8.0               pillar_1.10.2              \n",
       " [69] knitr_1.50                  ComplexHeatmap_2.18.0      \n",
       " [71] GenomicRanges_1.54.1        tcltk_4.3.2                \n",
       " [73] rjson_0.2.23                future.apply_1.11.3        \n",
       " [75] codetools_0.2-19            glue_1.8.0                 \n",
       " [77] spatstat.univar_3.1-2       data.table_1.17.0          \n",
       " [79] vctrs_0.6.5                 png_0.1-8                  \n",
       " [81] spam_2.11-1                 cellranger_1.1.0           \n",
       " [83] gtable_0.3.6                cachem_1.1.0               \n",
       " [85] OmnipathR_3.15.14           xfun_0.52                  \n",
       " [87] S4Arrays_1.2.1              mime_0.13                  \n",
       " [89] survival_3.5-7              SingleCellExperiment_1.24.0\n",
       " [91] iterators_1.0.14            statmod_1.5.0              \n",
       " [93] bluster_1.10.0              fitdistrplus_1.2-2         \n",
       " [95] ROCR_1.0-11                 nlme_3.1-163               \n",
       " [97] bit64_4.6.0-1               progress_1.2.3             \n",
       " [99] filelock_1.0.3              RcppAnnoy_0.0.22           \n",
       "[101] GenomeInfoDb_1.38.8         irlba_2.3.5.1              \n",
       "[103] KernSmooth_2.23-22          colorspace_2.1-1           \n",
       "[105] BiocGenerics_0.48.1         DBI_1.2.3                  \n",
       "[107] tidyselect_1.2.1            bit_4.6.0                  \n",
       "[109] compiler_4.3.2              curl_6.2.2                 \n",
       "[111] rvest_1.0.4                 httr2_1.1.2                \n",
       "[113] BiocNeighbors_1.20.2        basilisk.utils_1.21.0      \n",
       "[115] xml2_1.3.8                  DelayedArray_0.28.0        \n",
       "[117] plotly_4.10.4               checkmate_2.3.2            \n",
       "[119] scales_1.4.0                lmtest_0.9-40              \n",
       "[121] rappdirs_0.3.3              stringr_1.5.1              \n",
       "[123] digest_0.6.37               goftest_1.2-3              \n",
       "[125] spatstat.utils_3.1-3        rmarkdown_2.29             \n",
       "[127] basilisk_1.21.0             XVector_0.42.0             \n",
       "[129] htmltools_0.5.8.1           pkgconfig_2.0.3            \n",
       "[131] base64enc_0.1-3             sparseMatrixStats_1.14.0   \n",
       "[133] MatrixGenerics_1.14.0       fastmap_1.2.0              \n",
       "[135] rlang_1.1.6                 GlobalOptions_0.1.2        \n",
       "[137] htmlwidgets_1.6.4           DelayedMatrixStats_1.24.0  \n",
       "[139] shiny_1.10.0                farver_2.1.2               \n",
       "[141] zoo_1.8-14                  jsonlite_2.0.0             \n",
       "[143] BiocParallel_1.36.0         R.oo_1.27.1                \n",
       "[145] BiocSingular_1.18.0         RCurl_1.98-1.17            \n",
       "[147] magrittr_2.0.3              Formula_1.2-5              \n",
       "[149] scuttle_1.12.0              GenomeInfoDbData_1.2.11    \n",
       "[151] dotCall64_1.2               patchwork_1.3.0            \n",
       "[153] IRkernel_1.3.2              Rcpp_1.0.14                \n",
       "[155] reticulate_1.42.0           stringi_1.8.7              \n",
       "[157] zlibbioc_1.48.2             MASS_7.3-60                \n",
       "[159] plyr_1.8.9                  parallel_4.3.2             \n",
       "[161] listenv_0.9.1               ggrepel_0.9.6              \n",
       "[163] deldir_2.0-4                IRdisplay_1.1              \n",
       "[165] splines_4.3.2               tensor_1.5                 \n",
       "[167] hms_1.1.3                   circlize_0.4.16            \n",
       "[169] locfit_1.5-9.12             igraph_2.1.4               \n",
       "[171] uuid_1.2-1                  spatstat.geom_3.3-6        \n",
       "[173] ggsignif_0.6.4              RcppHNSW_0.6.0             \n",
       "[175] reshape2_1.4.4              stats4_4.3.2               \n",
       "[177] ScaledMatrix_1.10.0         XML_3.99-0.18              \n",
       "[179] evaluate_1.0.3              scran_1.28.2               \n",
       "[181] tzdb_0.5.0                  foreach_1.5.2              \n",
       "[183] httpuv_1.6.16               RANN_2.6.2                 \n",
       "[185] purrr_1.0.4                 polyclip_1.10-7            \n",
       "[187] future_1.40.0               clue_0.3-66                \n",
       "[189] scattermore_1.2             rsvd_1.0.5                 \n",
       "[191] broom_1.0.8                 xtable_1.8-4               \n",
       "[193] RSpectra_0.16-2             later_1.4.2                \n",
       "[195] viridisLite_0.4.2           tibble_3.2.1               \n",
       "[197] memoise_2.0.1               IRanges_2.36.0             \n",
       "[199] cluster_2.1.6               timechange_0.3.0           \n",
       "[201] globals_0.17.0             "
      ]
     },
     "metadata": {},
     "output_type": "display_data"
    }
   ],
   "source": [
    "sessionInfo() "
   ]
  },
  {
   "cell_type": "code",
   "execution_count": null,
   "id": "b2938289-d935-48d5-944f-9e9c60b7e814",
   "metadata": {},
   "outputs": [],
   "source": []
  }
 ],
 "metadata": {
  "kernelspec": {
   "display_name": "R",
   "language": "R",
   "name": "ir"
  },
  "language_info": {
   "codemirror_mode": "r",
   "file_extension": ".r",
   "mimetype": "text/x-r-source",
   "name": "R",
   "pygments_lexer": "r",
   "version": "4.3.2"
  }
 },
 "nbformat": 4,
 "nbformat_minor": 5
}
