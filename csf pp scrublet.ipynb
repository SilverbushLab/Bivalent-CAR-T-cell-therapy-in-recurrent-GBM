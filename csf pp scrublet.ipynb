{
 "cells": [
  {
   "cell_type": "code",
   "execution_count": null,
   "id": "8f06731b-720d-41e4-a6b2-19a1ea6810dd",
   "metadata": {},
   "outputs": [],
   "source": [
    "import scanpy as sc\n",
    "import numpy as np\n",
    "import pandas as pd\n",
    "import anndata as ad\n",
    "import celltypist\n",
    "from celltypist import models\n",
    "\n",
    "sc.settings.set_figure_params(dpi=100, facecolor=\"white\")"
   ]
  },
  {
   "cell_type": "code",
   "execution_count": 2,
   "id": "6b40b50a-14bb-40a5-8799-228e780e97e5",
   "metadata": {},
   "outputs": [],
   "source": []
  },
  {
   "cell_type": "code",
   "execution_count": null,
   "id": "19dc47cd-3a3e-488f-b022-76caa4a08d1b",
   "metadata": {},
   "outputs": [],
   "source": []
  },
  {
   "cell_type": "code",
   "execution_count": 3,
   "id": "abc38ed7-296d-4dde-aae8-cb9d6c25f806",
   "metadata": {},
   "outputs": [],
   "source": [
    "adata = sc.read_h5ad('../ProcessedData/seurat/filtered_prepost_csf.h5ad')"
   ]
  },
  {
   "cell_type": "code",
   "execution_count": null,
   "id": "848c3c5e-795e-4ca1-ad4d-724189b0f8f5",
   "metadata": {},
   "outputs": [],
   "source": []
  },
  {
   "cell_type": "code",
   "execution_count": 4,
   "id": "5c0cffbd-0c21-400a-bbc6-caa409a291c8",
   "metadata": {},
   "outputs": [],
   "source": [
    "sc.pp.scrublet(adata, batch_key=\"Batch\", expected_doublet_rate=0.06)\n",
    "adata.obs[['doublet_score', 'predicted_doublet']].to_csv('results/scrublet_doublets.csv')"
   ]
  },
  {
   "cell_type": "code",
   "execution_count": null,
   "id": "6a5667c5-27d7-4f91-856f-1d0a9f50d6d6",
   "metadata": {},
   "outputs": [],
   "source": []
  },
  {
   "cell_type": "code",
   "execution_count": 5,
   "id": "6b858dd7-f253-4c95-b65d-a53cd6a6bd79",
   "metadata": {},
   "outputs": [
    {
     "name": "stderr",
     "output_type": "stream",
     "text": [
      "... storing 'orig.ident' as categorical\n",
      "... storing 'sample_id' as categorical\n",
      "... storing 'in.cellranger' as categorical\n",
      "... storing 'Patient' as categorical\n",
      "... storing 'Day' as categorical\n",
      "... storing 'Batch' as categorical\n"
     ]
    }
   ],
   "source": [
    "adata.layers[\"counts\"] = adata.X.copy()  \n",
    "sc.pp.normalize_total(adata, target_sum=1e4)\n",
    "sc.pp.log1p(adata)\n",
    "adata.raw = adata  \n",
    "\n",
    "sc.pp.highly_variable_genes(adata, n_top_genes=2000, batch_key=\"Batch\")\n",
    "\n",
    "sc.tl.pca(adata)\n",
    "sc.pp.neighbors(adata)\n",
    "sc.tl.umap(adata)\n",
    "sc.tl.leiden(adata, flavor=\"igraph\", n_iterations=2)"
   ]
  },
  {
   "cell_type": "code",
   "execution_count": 6,
   "id": "3f6d5714-1530-453d-89a6-5f1f5798abd8",
   "metadata": {},
   "outputs": [],
   "source": [
    "adata.write('../ProcessedData/seurat/filtered_prepost_csf.h5ad')"
   ]
  },
  {
   "cell_type": "code",
   "execution_count": null,
   "id": "6e53eda5-f54a-4fa2-9da1-cd793e06f3e7",
   "metadata": {},
   "outputs": [],
   "source": []
  }
 ],
 "metadata": {
  "kernelspec": {
   "display_name": "Python 3 (ipykernel)",
   "language": "python",
   "name": "python3"
  },
  "language_info": {
   "codemirror_mode": {
    "name": "ipython",
    "version": 3
   },
   "file_extension": ".py",
   "mimetype": "text/x-python",
   "name": "python",
   "nbconvert_exporter": "python",
   "pygments_lexer": "ipython3",
   "version": "3.10.12"
  }
 },
 "nbformat": 4,
 "nbformat_minor": 5
}
