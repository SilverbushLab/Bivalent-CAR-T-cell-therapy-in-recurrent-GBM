{
 "cells": [
  {
   "cell_type": "code",
   "execution_count": null,
   "id": "e78b21e1-e73d-4cd3-814d-78a4e0804f2f",
   "metadata": {},
   "outputs": [],
   "source": [
    "source('helpers.R')"
   ]
  },
  {
   "cell_type": "code",
   "execution_count": null,
   "id": "4e87191e-40b1-4226-87d7-92ba6f62b49e",
   "metadata": {},
   "outputs": [],
   "source": []
  },
  {
   "cell_type": "code",
   "execution_count": 3,
   "id": "a06c0b9b-c0df-426f-ad27-52396c3e6af2",
   "metadata": {},
   "outputs": [],
   "source": [
    "prepost <- readRDS(\"../../../ProcessedData/seurat/annotated_prepost_csf.rds\")"
   ]
  },
  {
   "cell_type": "code",
   "execution_count": null,
   "id": "4b5913e7-7ce6-4224-bd17-afe3578f69d3",
   "metadata": {},
   "outputs": [],
   "source": []
  },
  {
   "cell_type": "code",
   "execution_count": 4,
   "id": "588ec73c-fa51-401f-ba44-c5de12d46eae",
   "metadata": {},
   "outputs": [],
   "source": [
    "target <- subset(prepost, cell_type %in%  c('CD4+ T', 'CD4+ CAR T', 'CD8+ T', 'CD8+ CAR T', 'Cycling CD8+ T')) \n",
    "\n",
    "target$cluster = 'CD8'\n",
    "target$cluster[target$cell_type %in% c('CD4+ T', 'CD4+ CAR T')] = 'CD4'\n",
    "\n",
    "target$group_by_cluster = 'CART' \n",
    "target$group_by_cluster[target$cell_type %!in% c('CD4+ CAR T', 'CD8+ CAR T')] = 'Endogenous'\n",
    "\n",
    "target$group_by_transcript = 'CART' \n",
    "target$group_by_transcript[target$CAR_Transcript == 'CAR -'] = 'Endogenous'\n",
    "\n",
    "target$sample = paste0(target$sample_id, '_', target$group_by_cluster)"
   ]
  },
  {
   "cell_type": "code",
   "execution_count": 6,
   "id": "f04fde18-e289-409b-be59-4b8b639188dd",
   "metadata": {},
   "outputs": [],
   "source": []
  },
  {
   "cell_type": "code",
   "execution_count": null,
   "id": "cd7a9a62-ee13-49ad-bb0e-9675361aec0b",
   "metadata": {},
   "outputs": [],
   "source": [
    "muscat.edgeR <- muscat.de.genes(\n",
    "    seurat_obj = target, \n",
    "    cluster_col = 'cluster', \n",
    "    group_col = 'group_by_cluster', \n",
    "    sample_col = 'sample', \n",
    "    method = 'edgeR'\n",
    ")\n",
    "\n",
    "protein_coding <- filter_genes_by_biotype(muscat.edgeR$gene, biotype = \"protein_coding\")\n",
    "muscat.edgeR <- muscat.edgeR[muscat.edgeR$gene %in%  c(protein_coding$filtered_genes, 'CAR'),]"
   ]
  },
  {
   "cell_type": "code",
   "execution_count": null,
   "id": "e4579484-2186-420e-9345-2cc3151f0f6c",
   "metadata": {},
   "outputs": [],
   "source": []
  },
  {
   "cell_type": "code",
   "execution_count": null,
   "id": "5cbf72c1-f133-4a52-9560-716bc6229821",
   "metadata": {},
   "outputs": [],
   "source": [
    "cd4.genes.up    <- c(\"CAR\",\"TNFRSF9\",\"TNFSF4\",\"EBI3\",\"IRAK3\",\"ZC3H12C\",\"GZMB\",\"CCL4\",\"CXCL13\",\"XCL1\",\"KLRD1\",\"HLA-DQA1\",\"DAPK2\",\"ITGA1\",\"NFIL3\")\n",
    "cd4.genes.down  <- c(\"TCF7\",\"CCR6\",\"CXCR5\",\"NR3C2\",\"KLF3\",\"WNT7A\",\"GREM2\",\"MYBL1\",\"PLCB1\",\"CLCF1\",\"PLXNA4\",\"AFF3\",\"ZFYVE9\",\"FNBP1L\",\"SEMA5A\")\n",
    "cd8.genes.up    <- c(\"CAR\",\"CXCL13\",\"PLS3\",\"CDC42BPA\",\"CTHRC1\",\"TLE1\",\"RUNX2\",\"DOCK5\",\"CAPG\",\"SPINK2\",\"XCL1\",\"RIMS2\",\"RBPJ\",\"KLRC1\",\"SPRY1\")\n",
    "cd8.genes.down  <- c(\"S1PR5\",\"TLR3\",\"KLF3\",\"CX3CR1\",\"CXCR5\",\"DKK3\",\"CLCF1\",\"MYBL1\",\"GPR183\",\"TYROBP\",\"TGFBR3\",\"DUSP8\",\"PDGFD\",\"KLRG1\",\"CADM1\")"
   ]
  },
  {
   "cell_type": "code",
   "execution_count": null,
   "id": "ce14627c-c1c2-4923-abc1-c06fa3eb1f94",
   "metadata": {},
   "outputs": [],
   "source": []
  },
  {
   "cell_type": "code",
   "execution_count": null,
   "id": "5dc88fd1-44e3-4ba7-a942-43799101aca1",
   "metadata": {},
   "outputs": [],
   "source": [
    "ctype = \"CD8\"\n",
    "muscat.edgeR.ctype <- muscat.edgeR %>% \n",
    "    filter(cluster_id == ctype) %>% \n",
    "    dplyr::select(gene, p_adj.glb, logFC)\n",
    "\n",
    "rownames(muscat.edgeR.ctype) <- muscat.edgeR.ctype$gene\n",
    "colnames(muscat.edgeR.ctype) <- c('gene', 'p_val_adj', 'avg_log2FC')\n",
    "\n",
    "muscat.edgeR.ctype <- muscat.edgeR.ctype %>% dplyr::select(p_val_adj, avg_log2FC)\n",
    "muscat.edgeR.ctype$avg_log2FC <- muscat.edgeR.ctype$avg_log2FC*-1\n",
    "\n",
    "options(repr.plot.width=4, repr.plot.height=4, repr.plot.res=200)\n",
    "p <- do_VolcanoPlot(sample = target, genes.up = cd8.genes.up, genes.down = cd8.genes.down,\n",
    "            de_genes = muscat.edgeR.ctype, pt.size=0.6,\n",
    "            pval_cutoff = 0.05,\n",
    "            FC_cutoff = log(2), n_genes = 10, order_tags_by='custom') \n",
    "p"
   ]
  },
  {
   "cell_type": "code",
   "execution_count": null,
   "id": "e35b6436-0e01-4425-a8cb-fd00b92de28b",
   "metadata": {},
   "outputs": [],
   "source": [
    "pdf(file.path(panel.path, paste0(\"1F_\",ctype,\".pdf\")), width=4, height=4)\n",
    "p\n",
    "dev.off()"
   ]
  },
  {
   "cell_type": "code",
   "execution_count": null,
   "id": "33f76576-17fc-43ed-8475-1f10989903f0",
   "metadata": {},
   "outputs": [],
   "source": [
    "ctype = \"CD4\"\n",
    "muscat.edgeR.ctype <- muscat.edgeR %>% \n",
    "    filter(cluster_id == ctype) %>% \n",
    "    dplyr::select(gene, p_adj.glb, logFC)\n",
    "\n",
    "rownames(muscat.edgeR.ctype) <- muscat.edgeR.ctype$gene\n",
    "colnames(muscat.edgeR.ctype) <- c('gene', 'p_val_adj', 'avg_log2FC')\n",
    "\n",
    "muscat.edgeR.ctype <- muscat.edgeR.ctype %>% dplyr::select(p_val_adj, avg_log2FC)\n",
    "muscat.edgeR.ctype$avg_log2FC <- muscat.edgeR.ctype$avg_log2FC*-1\n",
    "\n",
    "options(repr.plot.width=4, repr.plot.height=4, repr.plot.res=200)\n",
    "p <- do_VolcanoPlot(sample = target, genes.up = cd4.genes.up, genes.down = cd4.genes.down,\n",
    "            de_genes = muscat.edgeR.ctype, pt.size=0.6,\n",
    "            pval_cutoff = 0.05,\n",
    "            FC_cutoff = log(2), n_genes = 10, order_tags_by='custom') \n",
    "p"
   ]
  },
  {
   "cell_type": "code",
   "execution_count": null,
   "id": "e8efe92e-2765-49e9-aa00-cee8837769f7",
   "metadata": {},
   "outputs": [],
   "source": [
    "pdf(file.path(panel.path, paste0(\"1G_\",ctype,\".pdf\")), width=4, height=4)\n",
    "p\n",
    "dev.off()"
   ]
  }
 ],
 "metadata": {
  "kernelspec": {
   "display_name": "R",
   "language": "R",
   "name": "ir"
  },
  "language_info": {
   "codemirror_mode": "r",
   "file_extension": ".r",
   "mimetype": "text/x-r-source",
   "name": "R",
   "pygments_lexer": "r",
   "version": "4.3.2"
  }
 },
 "nbformat": 4,
 "nbformat_minor": 5
}
