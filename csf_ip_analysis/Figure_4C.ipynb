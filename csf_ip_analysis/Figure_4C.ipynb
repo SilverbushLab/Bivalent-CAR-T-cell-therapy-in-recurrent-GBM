{
 "cells": [
  {
   "cell_type": "code",
   "execution_count": null,
   "id": "0a3fcc12-71eb-4f7e-b31d-d9fe44ba4661",
   "metadata": {},
   "outputs": [],
   "source": [
    "source('helpers.R')"
   ]
  },
  {
   "cell_type": "code",
   "execution_count": null,
   "id": "a7f52e0f-f4f8-4140-b7a4-2bcd235bac6c",
   "metadata": {},
   "outputs": [],
   "source": []
  },
  {
   "cell_type": "code",
   "execution_count": null,
   "id": "28be4cd3-88cd-4095-aff6-556a70febfbe",
   "metadata": {},
   "outputs": [],
   "source": [
    "prepost <- readRDS(\"../../../ProcessedData/seurat/annotated_prepost_csf.rds\")"
   ]
  },
  {
   "cell_type": "code",
   "execution_count": null,
   "id": "7c6d2c3d-273f-45ba-91b7-87434906a59e",
   "metadata": {},
   "outputs": [],
   "source": []
  },
  {
   "cell_type": "code",
   "execution_count": null,
   "id": "298d0ff7-9e0c-40a6-b8b8-500f5f423784",
   "metadata": {},
   "outputs": [],
   "source": [
    "cts = c('NK','Monocyte','Macrophage')\n",
    "target <- subset(prepost, cell_type %in% cts & Day %in% c('D0','D7'))"
   ]
  },
  {
   "cell_type": "code",
   "execution_count": null,
   "id": "3c069024-87f9-47d7-bd12-1d78998275af",
   "metadata": {},
   "outputs": [],
   "source": []
  },
  {
   "cell_type": "code",
   "execution_count": null,
   "id": "5f8d5763-1c46-489e-808a-505fe979e3c7",
   "metadata": {},
   "outputs": [],
   "source": [
    "target$prepost = 'Post'\n",
    "target$prepost[target$Day == 'D0'] = 'Pre' "
   ]
  },
  {
   "cell_type": "code",
   "execution_count": null,
   "id": "891c7ae8-783b-4282-a99d-9eeb94d34a14",
   "metadata": {},
   "outputs": [],
   "source": []
  },
  {
   "cell_type": "code",
   "execution_count": null,
   "id": "a8735bed-a9f6-4a0a-85d0-90d3659ae772",
   "metadata": {},
   "outputs": [],
   "source": [
    "muscat.edgeR <- muscat.de.genes(\n",
    "    seurat_obj = target, \n",
    "    cluster_col = 'cell_type', \n",
    "    group_col = 'prepost', \n",
    "    sample_col = 'sample_id', \n",
    "    method = 'edgeR'\n",
    ")"
   ]
  },
  {
   "cell_type": "code",
   "execution_count": null,
   "id": "44d96d05-225b-4512-96b7-c877bb4e7693",
   "metadata": {},
   "outputs": [],
   "source": []
  },
  {
   "cell_type": "code",
   "execution_count": null,
   "id": "cd9c43c7-ed78-43c9-b5a0-dda9989d166d",
   "metadata": {},
   "outputs": [],
   "source": [
    "protein_coding <- filter_genes_by_biotype(muscat.edgeR$gene, biotype = \"protein_coding\")\n",
    "muscat.edgeR <- muscat.edgeR[muscat.edgeR$gene %in%  c(protein_coding$filtered_genes, 'CAR'),]"
   ]
  },
  {
   "cell_type": "code",
   "execution_count": null,
   "id": "336f4c64-ea6d-4f72-9940-f25e7fc644e3",
   "metadata": {},
   "outputs": [],
   "source": []
  },
  {
   "cell_type": "code",
   "execution_count": null,
   "id": "6f20cd57-3e77-4d45-b755-61730d6f750c",
   "metadata": {},
   "outputs": [],
   "source": [
    "genes.up <- c(\n",
    "  'SPON2','KLRF1', 'FCGR3A', \"KIR2DL4\", \"KIR3DL1\", \"KIR3DL2\",  \"CX3CR1\", \"CXCR2\",\"IL18RAP\",\n",
    "  'KLRG1', 'ZEB2','TBX21', 'S1PR5', 'GNLY', 'PRDM1', \"AKR1C3\", \"PTGDS\"\n",
    ")\n",
    "genes.down <- c('CST3','TOX2','CD200R1','DUSP4','ENTPD1','SRGAP2','ITGAE','LTB','ITGA1')"
   ]
  },
  {
   "cell_type": "code",
   "execution_count": null,
   "id": "6e48ec96-1e80-4a31-a5d3-76461f38a487",
   "metadata": {},
   "outputs": [],
   "source": []
  },
  {
   "cell_type": "code",
   "execution_count": null,
   "id": "1a928d17-29e1-41ac-870f-2c0c16847e61",
   "metadata": {},
   "outputs": [],
   "source": [
    "ctype = \"NK\"\n",
    "muscat.edgeR.ctype <- muscat.edgeR %>% \n",
    "    filter(cluster_id == ctype) %>% \n",
    "    dplyr::select(gene, p_val, logFC)\n",
    "\n",
    "rownames(muscat.edgeR.ctype) <- muscat.edgeR.ctype$gene\n",
    "colnames(muscat.edgeR.ctype) <- c('gene', 'p_val_adj', 'avg_log2FC')\n",
    "\n",
    "muscat.edgeR.ctype <- muscat.edgeR.ctype %>% dplyr::select(p_val_adj, avg_log2FC)\n",
    "muscat.edgeR.ctype$avg_log2FC <- muscat.edgeR.ctype$avg_log2FC*-1\n",
    "\n",
    "p <- do_VolcanoPlot(sample = target, genes.up = genes.up, genes.down = genes.down,\n",
    "            de_genes = muscat.edgeR.ctype, pt.size=0.6,  min.segment.length=0.01, force=50, nudge_x=0.6,\n",
    "            pval_cutoff = 0.05, FC_cutoff = log(2), n_genes = 15, order_tags_by='custom') + xlim(-7,12) +\n",
    "    ylab(expression(paste(\"-\", log[\"10\"], \"(P value)\")))\n",
    "p"
   ]
  },
  {
   "cell_type": "code",
   "execution_count": null,
   "id": "c8cd83ee-70fb-4b85-ba2e-2eb4b9a128aa",
   "metadata": {},
   "outputs": [],
   "source": [
    "pdf(file.path(panel.path, paste0(\"4C_D0_vs_D7_\",ctype,\"_custom.pdf\")), width=4, height=4)\n",
    "p\n",
    "dev.off()"
   ]
  }
 ],
 "metadata": {
  "kernelspec": {
   "display_name": "R",
   "language": "R",
   "name": "ir"
  },
  "language_info": {
   "codemirror_mode": "r",
   "file_extension": ".r",
   "mimetype": "text/x-r-source",
   "name": "R",
   "pygments_lexer": "r",
   "version": "4.3.2"
  }
 },
 "nbformat": 4,
 "nbformat_minor": 5
}
