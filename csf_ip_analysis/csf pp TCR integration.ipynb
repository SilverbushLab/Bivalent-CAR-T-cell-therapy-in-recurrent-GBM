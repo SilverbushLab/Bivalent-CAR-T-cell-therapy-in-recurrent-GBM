{
 "cells": [
  {
   "cell_type": "code",
   "execution_count": 1,
   "id": "092eb3a9-e902-4165-9f75-acb65580a885",
   "metadata": {},
   "outputs": [],
   "source": [
    "suppressPackageStartupMessages({\n",
    "    library(Seurat)\n",
    "    library(harmony)\n",
    "    library(stringr)\n",
    "    library(ggplot2)\n",
    "    library(tidyr)\n",
    "    library(Matrix)\n",
    "    library(Azimuth)\n",
    "    library(dplyr)\n",
    "    library(RColorBrewer)\n",
    "    library(UCell)\n",
    "    library(Nebulosa)\n",
    "    library(SeuratDisk)\n",
    "    library(ggsci)\n",
    "    library(DoubletFinder)\n",
    "    library(scRepertoire)    \n",
    "    library(scCustomize)\n",
    "    library(scater)\n",
    "    library(ggpubr)\n",
    "    library(ggbeeswarm)\n",
    "    library(UpSetR)\n",
    "    library(SCP)\n",
    "\n",
    "    source('helper_functions.R')\n",
    "})\n",
    "\n",
    "set.seed(123)"
   ]
  },
  {
   "cell_type": "code",
   "execution_count": null,
   "id": "ac1b4784-1b5b-434b-8dcd-ce40c8d7edf0",
   "metadata": {},
   "outputs": [],
   "source": []
  },
  {
   "cell_type": "code",
   "execution_count": 99,
   "id": "04f1ce7d-182c-4feb-af00-6330a3c62c80",
   "metadata": {},
   "outputs": [],
   "source": [
    "prepost <- readRDS(\"../ProcessedData/seurat/filtered_prepost_csf.rds\")"
   ]
  },
  {
   "cell_type": "code",
   "execution_count": null,
   "id": "bbba8398-b1e9-4313-801a-bccdb41e0abb",
   "metadata": {},
   "outputs": [],
   "source": []
  },
  {
   "cell_type": "code",
   "execution_count": 119,
   "id": "a3af384f-54d5-4ea8-a998-7864f2f28c9f",
   "metadata": {},
   "outputs": [],
   "source": [
    "samples <- c(\n",
    "    'P1D0','P1D7','P1D21',  \n",
    "    'P2D0','P2D7','P2D21',\n",
    "    'P3D0','P3D7','P3D21',\n",
    "    'P4D0','P4D7','P4D21',\n",
    "    'P5D0','P5D0_run2','P5D7','P5D21',\n",
    "    'P6D0','P6D7','P6D21', \n",
    "    'P7D0','P7D7','P7D21', \n",
    "    'P8D0','P8D7','P8D21'   \n",
    ")\n",
    "\n",
    "\n",
    "contig_list <- list()\n",
    "\n",
    "for (sample in samples) {\n",
    "    contig.path = Sys.glob(paste0(\"../RawData/cellranger_out/\",sample,\"/*/*/*/filtered_contig_annotations.csv\"))\n",
    "    contig_list[[sample]] <- read.csv(contig.path)\n",
    "    if (length(contig_list[[sample]]) == 32 && colnames(contig_list[[sample]])[[1]] == 'sample') {\n",
    "        contig_list[[sample]] = contig_list[[sample]][2:32] \n",
    "    }\n",
    "}"
   ]
  },
  {
   "cell_type": "code",
   "execution_count": null,
   "id": "6b526124-81fd-4fbe-91b8-30a3f39c7de0",
   "metadata": {},
   "outputs": [],
   "source": []
  },
  {
   "cell_type": "code",
   "execution_count": 120,
   "id": "fef0320f-a98f-49b1-8f52-03aa3f86ffb9",
   "metadata": {},
   "outputs": [],
   "source": [
    "combined.TCR <- combineTCR(\n",
    "    contig_list, samples = names(contig_list), removeNA = TRUE, removeMulti = TRUE, filterMulti = TRUE, filterNonproductive = TRUE\n",
    ")"
   ]
  },
  {
   "cell_type": "code",
   "execution_count": null,
   "id": "0e7e6470-16e8-4f86-8980-27de851ca583",
   "metadata": {},
   "outputs": [],
   "source": []
  },
  {
   "cell_type": "code",
   "execution_count": null,
   "id": "a474b7e4-b933-4976-9870-7e28ee92acc3",
   "metadata": {},
   "outputs": [],
   "source": [
    "total_first_dim <- sum(sapply(combined.TCR, function(x) dim(x)[1]))\n",
    "print(paste0(\"Number of T Cells pre filtering: \", total_first_dim))"
   ]
  },
  {
   "cell_type": "code",
   "execution_count": null,
   "id": "48cecfee-14de-44ed-a760-c7e7af78b30d",
   "metadata": {},
   "outputs": [],
   "source": []
  },
  {
   "cell_type": "code",
   "execution_count": 94,
   "id": "5827b43b-bd87-41fd-b108-10560a1ff830",
   "metadata": {},
   "outputs": [],
   "source": [
    "# Function to swap parts of the barcode\n",
    "swap_barcode <- function(barcode) {\n",
    "  parts <- strsplit(barcode, \"_\")[[1]]\n",
    "  paste(parts[2], parts[1], sep = \"_\")\n",
    "}\n",
    "\n",
    "# Apply the swap to all dataframes in combined.TCR\n",
    "combined.TCR <- lapply(combined.TCR, function(df) {\n",
    "  df$barcode <- sapply(df$barcode, swap_barcode)\n",
    "  return(df)\n",
    "})"
   ]
  },
  {
   "cell_type": "code",
   "execution_count": 95,
   "id": "2acfe37d-b0df-4d1d-8b34-1c8a248c242f",
   "metadata": {},
   "outputs": [],
   "source": [
    "Patient <- sub(\"^(P\\\\d+).*\", \"\\\\1\", names(combined.TCR))\n",
    "Day <- sub(\".*?(D\\\\d+).*\", \"\\\\1\", names(combined.TCR))"
   ]
  },
  {
   "cell_type": "code",
   "execution_count": 96,
   "id": "ea8d7870-2141-47d4-92f2-87f4d76c6ef0",
   "metadata": {},
   "outputs": [],
   "source": [
    "combined.TCR <- addVariable(combined.TCR,  variable.name = \"Day\",  variables = Day)\n",
    "combined.TCR <- addVariable(combined.TCR,  variable.name = \"Patient\",  variables = Patient)"
   ]
  },
  {
   "cell_type": "code",
   "execution_count": null,
   "id": "a4b14206-3908-432c-bb6b-95749c8a7951",
   "metadata": {},
   "outputs": [],
   "source": []
  },
  {
   "cell_type": "code",
   "execution_count": 101,
   "id": "514e22bf-e85b-4708-a95d-842112ff1dc3",
   "metadata": {},
   "outputs": [],
   "source": [
    "prepost <- combineExpression(combined.TCR, prepost, cloneCall=\"aa\", \n",
    "    group.by = \"sample\", proportion = FALSE, \n",
    "    cloneSize=c(Single=1, Small=5, Medium=20, Large=100, Hyperexpanded=500)\n",
    ")"
   ]
  },
  {
   "cell_type": "code",
   "execution_count": null,
   "id": "a385c885-6593-4222-b18a-97ab9cb78556",
   "metadata": {},
   "outputs": [],
   "source": []
  },
  {
   "cell_type": "code",
   "execution_count": 52,
   "id": "37dd4e8f-3538-468a-8bff-4b25a573c304",
   "metadata": {},
   "outputs": [],
   "source": [
    "saveRDS(prepost, \"../ProcessedData/seurat/filtered_prepost_csf.rds\")"
   ]
  },
  {
   "cell_type": "code",
   "execution_count": null,
   "id": "d2e57801-31c9-4e1b-8a65-9ded348f0a3a",
   "metadata": {},
   "outputs": [],
   "source": []
  }
 ],
 "metadata": {
  "kernelspec": {
   "display_name": "R",
   "language": "R",
   "name": "ir"
  },
  "language_info": {
   "codemirror_mode": "r",
   "file_extension": ".r",
   "mimetype": "text/x-r-source",
   "name": "R",
   "pygments_lexer": "r",
   "version": "4.3.2"
  }
 },
 "nbformat": 4,
 "nbformat_minor": 5
}
