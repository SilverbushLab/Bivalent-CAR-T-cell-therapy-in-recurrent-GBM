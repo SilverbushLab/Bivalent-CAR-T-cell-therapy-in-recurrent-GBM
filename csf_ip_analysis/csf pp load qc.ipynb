{
 "cells": [
  {
   "cell_type": "code",
   "execution_count": null,
   "id": "d29daec5-7ae7-4a8e-a80b-20d0d8740e58",
   "metadata": {},
   "outputs": [],
   "source": [
    "suppressPackageStartupMessages({\n",
    "    library(Seurat)\n",
    "    library(SeuratDisk)\n",
    "    library(scCustomize) \n",
    "    library(SCP)\n",
    "    library(ggplot2)\n",
    "    library(dplyr)\n",
    "    library(knitr)\n",
    "    library(readr) \n",
    "    library(ggsci)\n",
    "    library(scater)\n",
    "    library(DoubletFinder)\n",
    "    library(Trex)    \n",
    "    library(SCpubr)\n",
    "    library(biomaRt)\n",
    "    library(data.table)\n",
    "    library(genekitr)\n",
    "    library(Azimuth)\n",
    "    library(UCell)\n",
    "\n",
    "    load(\"data/cycle.rda\")\n",
    "    source('helper_functions.R')\n",
    "    \n",
    "})\n",
    "\n",
    "\n",
    "options(future.globals.maxSize = 128*1024**3)\n",
    "plan(strategy = \"multicore\", workers = 1)\n",
    "plan()\n",
    "\n",
    "set.seed(123)"
   ]
  },
  {
   "cell_type": "code",
   "execution_count": null,
   "id": "af369bd5-da36-4f64-bb6a-8eee9cd33fdb",
   "metadata": {},
   "outputs": [],
   "source": []
  },
  {
   "cell_type": "markdown",
   "id": "1e812f22-4be6-4b33-9eb3-bef4370e5e12",
   "metadata": {},
   "source": [
    "#### 1. Load Cellbender filtered  "
   ]
  },
  {
   "cell_type": "code",
   "execution_count": 2,
   "id": "a5307cca-de98-4b59-9ff1-19374a5d3111",
   "metadata": {},
   "outputs": [],
   "source": [
    "samples <- c(\n",
    "    'P1D0','P1D7','P1D21', \n",
    "    'P2D0','P2D7','P2D21',\n",
    "    'P3D0','P3D7','P3D21',\n",
    "    'P4D0','P4D7','P4D21',\n",
    "    'P5D0','P5D0_run2','P5D7','P5D21',\n",
    "    'P6D0','P6D7','P6D21', \n",
    "    'P7D0','P7D7','P7D21',  \n",
    "    'P8D0','P8D7','P8D21' \n",
    ")"
   ]
  },
  {
   "cell_type": "code",
   "execution_count": null,
   "id": "84ca7b1b-05d4-4325-aa58-73865d8eb65d",
   "metadata": {},
   "outputs": [],
   "source": [
    "print(paste0(\"Number of samples: \", length(samples)))"
   ]
  },
  {
   "cell_type": "code",
   "execution_count": 4,
   "id": "af8fefba-edd6-4346-810b-ea4c972f9d2d",
   "metadata": {},
   "outputs": [],
   "source": [
    "options(Seurat.object.assay.version = \"v3\")"
   ]
  },
  {
   "cell_type": "code",
   "execution_count": 5,
   "id": "cf966f27-5b3f-4da3-956e-77200ff4388f",
   "metadata": {},
   "outputs": [],
   "source": [
    "sample.objs <- list()\n",
    "for ( sample in samples) {\n",
    "    cellbender_path = paste0(\"../ProcessedData/cellbender/\",sample,\"/cellbender_output_FPR_0.1_filtered.h5\")\n",
    "    cell_bender_mat <- Read_CellBender_h5_Mat(cellbender_path)\n",
    "    colnames(cell_bender_mat) <- paste0(colnames(cell_bender_mat), '_', sample)\n",
    "    dual_seurat <- CreateSeuratObject(CreateAssayObject(cell_bender_mat))\n",
    "    dual_seurat@meta.data$sample_id = sample\n",
    "    dual_seurat[[\"percent.mt\"]] <- PercentageFeatureSet(dual_seurat, pattern = \"^MT-\") \n",
    "    dual_seurat <- subset(dual_seurat, subset =\n",
    "      nFeature_RNA > 500 & \n",
    "      nCount_RNA > 1000 & \n",
    "      nCount_RNA < 50000 & \n",
    "      percent.mt < 10        \n",
    "    )\n",
    "    sample.objs[[sample]] <- dual_seurat\n",
    "}\n",
    "prepost <- merge(sample.objs[[1]], y = unlist(sample.objs[-c(1)]))"
   ]
  },
  {
   "cell_type": "code",
   "execution_count": null,
   "id": "c60dff2a-ef66-4a7e-b281-f685febbcb1d",
   "metadata": {},
   "outputs": [],
   "source": []
  },
  {
   "cell_type": "code",
   "execution_count": null,
   "id": "3f96bdd2-29ad-4370-9e73-957a6b3433e9",
   "metadata": {},
   "outputs": [],
   "source": [
    "print(paste0(\"Number of cells called by cellbender: \", dim(prepost)[2]))"
   ]
  },
  {
   "cell_type": "markdown",
   "id": "67f0617e-7a45-4037-82da-b6853c0f1327",
   "metadata": {},
   "source": [
    "#### 2. Load Cellranger count "
   ]
  },
  {
   "cell_type": "code",
   "execution_count": 7,
   "id": "71249ba1-dc9a-40b4-bfbb-99d1d83c2590",
   "metadata": {},
   "outputs": [],
   "source": [
    "sample.objs <- list()\n",
    "for ( sample.id in samples) {\n",
    "    sample.path <- Sys.glob(paste0(\"../RawData/cellranger_out/\",sample.id,\"/per_sample_outs/*/count/sample_filtered_feature_bc_matrix.h5\")) \n",
    "    cell_ranger_mat <- Read10X_h5(sample.path[[1]])\n",
    "    colnames(cell_ranger_mat) <- paste0(colnames(cell_ranger_mat), '_', sample.id)\n",
    "    sample <- CreateSeuratObject(CreateAssayObject(cell_ranger_mat))\n",
    "    sample@meta.data$sample_id = sample.id\n",
    "    \n",
    "    sample[[\"percent.mt\"]] <- PercentageFeatureSet(sample, pattern = \"^MT-\") \n",
    "    \n",
    "    sample <- subset(sample, subset =\n",
    "      nFeature_RNA > 500 & \n",
    "      nCount_RNA > 1000 & \n",
    "      nCount_RNA < 50000 & \n",
    "      percent.mt < 10     \n",
    "    )\n",
    "    sample.objs[[sample.id]] <- sample\n",
    "}\n",
    "prepost.cellranger <- merge(sample.objs[[1]], y = unlist(sample.objs[-c(1)]))\n"
   ]
  },
  {
   "cell_type": "code",
   "execution_count": null,
   "id": "a558a276-034d-4258-9b45-2fcefe21c339",
   "metadata": {},
   "outputs": [],
   "source": []
  },
  {
   "cell_type": "code",
   "execution_count": null,
   "id": "9c13a1f2-9656-4cb5-8caf-5af6d530a250",
   "metadata": {},
   "outputs": [],
   "source": [
    "print(paste0(\"Number of cells called by cellranger: \", dim(prepost.cellranger)[2]))"
   ]
  },
  {
   "cell_type": "code",
   "execution_count": null,
   "id": "aa36f249-d657-4b09-935b-b4031ac9b022",
   "metadata": {},
   "outputs": [],
   "source": []
  },
  {
   "cell_type": "code",
   "execution_count": 9,
   "id": "5bf20544-fdca-46d1-ac29-8f73929af674",
   "metadata": {},
   "outputs": [],
   "source": [
    "prepost@meta.data$barcodes <- colnames(prepost)\n",
    "prepost@meta.data$in.cellranger <- 'No'\n",
    "prepost@meta.data$in.cellranger[colnames(prepost) %in% colnames(prepost.cellranger)] <- 'Yes'\n",
    "prepost <- subset(prepost, in.cellranger == 'Yes')"
   ]
  },
  {
   "cell_type": "code",
   "execution_count": null,
   "id": "fa0a32d2-f19b-40f4-ab7b-09243e234278",
   "metadata": {},
   "outputs": [],
   "source": []
  },
  {
   "cell_type": "code",
   "execution_count": null,
   "id": "5f2b3298-b2d0-4c7f-962c-5bd373151743",
   "metadata": {},
   "outputs": [],
   "source": [
    "print(paste0(\"Number of cells called by both cellranger AND cellbender: \", dim(prepost)[2]))"
   ]
  },
  {
   "cell_type": "code",
   "execution_count": null,
   "id": "43edd5fd-7bfc-4976-a761-ca1d1df92fff",
   "metadata": {},
   "outputs": [],
   "source": [
    "rm(prepost.cellranger)\n",
    "rm(sample.objs)\n",
    "gc()"
   ]
  },
  {
   "cell_type": "code",
   "execution_count": 12,
   "id": "8f140200-c095-49c5-8af5-d8675d38b006",
   "metadata": {},
   "outputs": [],
   "source": [
    "saveRDS(prepost, \"../ProcessedData/seurat/filtered_prepost_csf.rds\")"
   ]
  },
  {
   "cell_type": "code",
   "execution_count": null,
   "id": "4e2cad51-2bcd-4cfa-bf7e-645552de1278",
   "metadata": {},
   "outputs": [],
   "source": []
  },
  {
   "cell_type": "markdown",
   "id": "4792b98f-8d8e-42e1-9277-2830e628ac08",
   "metadata": {},
   "source": [
    "#### 3. QC Stats "
   ]
  },
  {
   "cell_type": "code",
   "execution_count": 13,
   "id": "7a9feb50-9b69-48ef-9ccc-05759ce0bd48",
   "metadata": {},
   "outputs": [],
   "source": [
    "prepost <- readRDS(\"../ProcessedData/seurat/filtered_prepost_csf.rds\")"
   ]
  },
  {
   "cell_type": "code",
   "execution_count": 14,
   "id": "86d048b6-9ad2-4398-9283-cbf3a1067456",
   "metadata": {},
   "outputs": [
    {
     "name": "stderr",
     "output_type": "stream",
     "text": [
      "\u001b[1m\u001b[22mCalculating percent expressing top 20 for layer: \u001b[32mcounts\u001b[39m\n"
     ]
    }
   ],
   "source": [
    "prepost[[\"percent.TCR\"]] <- PercentageFeatureSet(prepost, pattern = \"^TR[ABDG][VJC]\")\n",
    "prepost[[\"percent.ribo\"]] <- PercentageFeatureSet(prepost, pattern = \"^RP[SL]\")\n",
    "prepost[[\"percent.mt\"]] <- PercentageFeatureSet(prepost, pattern = \"^MT-\")\n",
    "prepost[[\"percent.hb\"]] <- PercentageFeatureSet(prepost, pattern = \"^HB[^(P)]\")\n",
    "prepost[[\"log10GenesPerUMI\"]]  <- log10(prepost$nFeature_RNA) / log10(prepost$nCount_RNA)\n",
    "\n",
    "prepost <- Add_Top_Gene_Pct_Seurat(prepost, num_top_genes = 20)"
   ]
  },
  {
   "cell_type": "code",
   "execution_count": null,
   "id": "06cf5f08-0d43-4b79-9323-202654957182",
   "metadata": {},
   "outputs": [],
   "source": [
    "summary_stats <- prepost@meta.data %>%\n",
    "  group_by(sample_id) %>%\n",
    "  summarize(\n",
    "    num_cells = n(),\n",
    "    median_nUMI = median(nCount_RNA),\n",
    "    median_nGene = median(nFeature_RNA),\n",
    "    median_percent_mt = round(median(percent.mt),2)\n",
    "  )\n",
    "kable((summary_stats), format = \"markdown\")"
   ]
  },
  {
   "cell_type": "code",
   "execution_count": null,
   "id": "9c989d47-bb4b-4248-aafb-98070840113d",
   "metadata": {},
   "outputs": [],
   "source": []
  },
  {
   "cell_type": "code",
   "execution_count": 16,
   "id": "61d385fa-7523-429b-b827-693e6d83ac03",
   "metadata": {},
   "outputs": [],
   "source": [
    "Idents(prepost) <- \"sample_id\"\n",
    "prepost@meta.data$Patient <- sub(\"(P\\\\d+).*$\", \"\\\\1\", prepost@meta.data$sample_id)\n",
    "prepost@meta.data$Day <- sub(\"^P\\\\d+\", \"\", prepost@meta.data$sample_id)\n",
    "\n",
    "\n",
    "batch_mapping <- c(\n",
    "    \"P5D0\" = \"Batch1\", \"P6D7\" = \"Batch1\",'P6D21' = 'Batch1',\n",
    "    'P6D0' = 'Batch2','P3D0' = 'Batch2','P3D7' = 'Batch2',\n",
    "    'P3D21' = 'Batch3','P2D7' = 'Batch3','P2D0' = 'Batch3',\n",
    "    'P1D7' = 'Batch4','P2D21' = 'Batch4', \n",
    "    'P5D0_run2' = 'Batch5', 'P5D7' = 'Batch5', 'P5D21' = 'Batch5', 'P1D21' = 'Batch5', 'P1D78' = 'Batch5', 'P4D21' = 'Batch5',\n",
    "    'P7D0' = 'Batch6', 'P7D7' = 'Batch6', 'P7D21' = 'Batch6',\n",
    "    'P8D0' = 'Batch7', 'P8D7' = 'Batch7', 'P8D21' = 'Batch7', 'P8M2' = 'Batch7', 'P7M2' = 'Batch7', \n",
    "    'P1D0' = 'Batch8', 'P4D0' = 'Batch8', 'P4D7' = 'Batch8', 'P8IP' = 'Batch8'\n",
    ")\n",
    "prepost@meta.data$Batch <- batch_mapping[as.character(prepost$sample_id)]"
   ]
  },
  {
   "cell_type": "code",
   "execution_count": null,
   "id": "668807ca-4c5c-4427-878f-6aac4f719175",
   "metadata": {},
   "outputs": [],
   "source": []
  },
  {
   "cell_type": "code",
   "execution_count": 17,
   "id": "c6c0d913-1727-4e68-820a-01e7243b4cfa",
   "metadata": {},
   "outputs": [],
   "source": [
    "saveRDS(prepost, \"../ProcessedData/seurat/filtered_prepost_csf.rds\")"
   ]
  },
  {
   "cell_type": "code",
   "execution_count": null,
   "id": "7e41206d-b7f3-43ef-b097-0ddac01507fc",
   "metadata": {},
   "outputs": [],
   "source": [
    "SaveH5Seurat(prepost, filename = \"../ProcessedData/seurat/filtered_prepost_csf.h5Seurat\", overwrite=T)\n",
    "Convert(\"../ProcessedData/seurat/filtered_prepost_csf.h5Seurat\", dest = \"h5ad\", overwrite=T)"
   ]
  },
  {
   "cell_type": "code",
   "execution_count": null,
   "id": "6d1d5e31-ae0a-4ecd-af63-0c077ec06c83",
   "metadata": {},
   "outputs": [],
   "source": []
  }
 ],
 "metadata": {
  "kernelspec": {
   "display_name": "R",
   "language": "R",
   "name": "ir"
  },
  "language_info": {
   "codemirror_mode": "r",
   "file_extension": ".r",
   "mimetype": "text/x-r-source",
   "name": "R",
   "pygments_lexer": "r",
   "version": "4.3.2"
  }
 },
 "nbformat": 4,
 "nbformat_minor": 5
}
