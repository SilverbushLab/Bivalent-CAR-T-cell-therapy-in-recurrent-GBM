{
 "cells": [
  {
   "cell_type": "code",
   "execution_count": 1,
   "id": "d29daec5-7ae7-4a8e-a80b-20d0d8740e58",
   "metadata": {},
   "outputs": [
    {
     "data": {
      "text/html": [
       "<pre class=language-r><code>structure(function (..., workers = 1, envir = parent.frame()) \n",
       "strategy(..., workers = workers, envir = envir), class = c(\"FutureStrategy\", \n",
       "\"tweaked\", \"multicore\", \"multiprocess\", \"future\", \"function\"), call = plan(strategy = \"multicore\", \n",
       "<span style=white-space:pre-wrap>    workers = 1))</span></code></pre>"
      ],
      "text/latex": [
       "\\begin{minted}{r}\n",
       "structure(function (..., workers = 1, envir = parent.frame()) \n",
       "strategy(..., workers = workers, envir = envir), class = c(\"FutureStrategy\", \n",
       "\"tweaked\", \"multicore\", \"multiprocess\", \"future\", \"function\"), call = plan(strategy = \"multicore\", \n",
       "    workers = 1))\n",
       "\\end{minted}"
      ],
      "text/markdown": [
       "```r\n",
       "structure(function (..., workers = 1, envir = parent.frame()) \n",
       "strategy(..., workers = workers, envir = envir), class = c(\"FutureStrategy\", \n",
       "\"tweaked\", \"multicore\", \"multiprocess\", \"future\", \"function\"), call = plan(strategy = \"multicore\", \n",
       "    workers = 1))\n",
       "```"
      ],
      "text/plain": [
       "multicore:\n",
       "- args: function (..., workers = 1, envir = parent.frame())\n",
       "- tweaked: TRUE\n",
       "- call: plan(strategy = \"multicore\", workers = 1)"
      ]
     },
     "metadata": {},
     "output_type": "display_data"
    }
   ],
   "source": [
    "suppressPackageStartupMessages({\n",
    "    library(Seurat)\n",
    "    library(SeuratDisk)\n",
    "    library(scCustomize) \n",
    "    library(SCP)\n",
    "    library(ggplot2)\n",
    "    library(dplyr)\n",
    "    library(knitr)\n",
    "    library(readr) \n",
    "    library(ggsci)\n",
    "    library(scater)\n",
    "    library(DoubletFinder)\n",
    "    library(Trex)    \n",
    "    library(SCpubr)\n",
    "    library(biomaRt)\n",
    "    library(data.table)\n",
    "    library(genekitr)\n",
    "    library(Azimuth)\n",
    "    library(UCell)\n",
    "\n",
    "    load(\"data/cycle.rda\")\n",
    "    source('helper_functions.R')\n",
    "    \n",
    "})\n",
    "\n",
    "\n",
    "options(future.globals.maxSize = 128*1024**3)\n",
    "plan(strategy = \"multicore\", workers = 1)\n",
    "plan()\n",
    "\n",
    "set.seed(123)"
   ]
  },
  {
   "cell_type": "markdown",
   "id": "1e812f22-4be6-4b33-9eb3-bef4370e5e12",
   "metadata": {},
   "source": [
    "#### 1. Load Cellbender filtered  "
   ]
  },
  {
   "cell_type": "code",
   "execution_count": 2,
   "id": "a5307cca-de98-4b59-9ff1-19374a5d3111",
   "metadata": {},
   "outputs": [],
   "source": [
    "samples <- c(\n",
    "    'P4IP','P6IP','P8IP_04', 'P3IP'\n",
    ")"
   ]
  },
  {
   "cell_type": "code",
   "execution_count": 3,
   "id": "84ca7b1b-05d4-4325-aa58-73865d8eb65d",
   "metadata": {},
   "outputs": [
    {
     "name": "stdout",
     "output_type": "stream",
     "text": [
      "[1] \"Number of samples: 4\"\n"
     ]
    }
   ],
   "source": [
    "print(paste0(\"Number of samples: \", length(samples)))"
   ]
  },
  {
   "cell_type": "code",
   "execution_count": null,
   "id": "c722ab39-c594-46ce-bece-17be37647e9c",
   "metadata": {},
   "outputs": [],
   "source": []
  },
  {
   "cell_type": "code",
   "execution_count": null,
   "id": "b3d3c839-f7c8-4666-88b0-89ec0d86a52e",
   "metadata": {},
   "outputs": [],
   "source": []
  },
  {
   "cell_type": "code",
   "execution_count": 4,
   "id": "af8fefba-edd6-4346-810b-ea4c972f9d2d",
   "metadata": {},
   "outputs": [],
   "source": [
    "options(Seurat.object.assay.version = \"v3\")"
   ]
  },
  {
   "cell_type": "code",
   "execution_count": 5,
   "id": "cf966f27-5b3f-4da3-956e-77200ff4388f",
   "metadata": {},
   "outputs": [],
   "source": [
    "sample.objs <- list()\n",
    "for ( sample in samples) {\n",
    "    cellbender_path = paste0(\"../ProcessedData/cellbender/\",sample,\"/cellbender_output_FPR_0.1_filtered.h5\")\n",
    "    cell_bender_mat <- Read_CellBender_h5_Mat(cellbender_path)\n",
    "    colnames(cell_bender_mat) <- paste0(colnames(cell_bender_mat), '_', sample)\n",
    "    dual_seurat <- CreateSeuratObject(CreateAssayObject(cell_bender_mat))\n",
    "    dual_seurat@meta.data$sample_id = sample\n",
    "    dual_seurat[[\"percent.mt\"]] <- PercentageFeatureSet(dual_seurat, pattern = \"^MT-\") \n",
    "    dual_seurat <- subset(dual_seurat, subset =\n",
    "      nFeature_RNA > 500 & \n",
    "      nCount_RNA > 1000 & \n",
    "      nCount_RNA < 50000 & \n",
    "      percent.mt < 10        \n",
    "    )\n",
    "    sample.objs[[sample]] <- dual_seurat\n",
    "}\n",
    "\n",
    "prepost <- merge(sample.objs[[1]], y = unlist(sample.objs[-c(1)]))"
   ]
  },
  {
   "cell_type": "code",
   "execution_count": null,
   "id": "c60dff2a-ef66-4a7e-b281-f685febbcb1d",
   "metadata": {},
   "outputs": [],
   "source": []
  },
  {
   "cell_type": "code",
   "execution_count": 6,
   "id": "3f96bdd2-29ad-4370-9e73-957a6b3433e9",
   "metadata": {},
   "outputs": [
    {
     "name": "stdout",
     "output_type": "stream",
     "text": [
      "[1] \"Number of cells called by cellbender: 40132\"\n"
     ]
    }
   ],
   "source": [
    "print(paste0(\"Number of cells called by cellbender: \", dim(prepost)[2]))"
   ]
  },
  {
   "cell_type": "markdown",
   "id": "67f0617e-7a45-4037-82da-b6853c0f1327",
   "metadata": {},
   "source": [
    "#### 2. Load Cellranger count "
   ]
  },
  {
   "cell_type": "code",
   "execution_count": 7,
   "id": "71249ba1-dc9a-40b4-bfbb-99d1d83c2590",
   "metadata": {},
   "outputs": [],
   "source": [
    "sample.objs <- list()\n",
    "for ( sample.id in samples) {\n",
    "    sample.path <- Sys.glob(paste0(\"../RawData/cellranger_out/\",sample.id,\"/per_sample_outs/*/count/sample_filtered_feature_bc_matrix.h5\")) \n",
    "    cell_ranger_mat <- Read10X_h5(sample.path[[1]])\n",
    "    colnames(cell_ranger_mat) <- paste0(colnames(cell_ranger_mat), '_', sample.id)\n",
    "    sample <- CreateSeuratObject(CreateAssayObject(cell_ranger_mat))\n",
    "    sample@meta.data$sample_id = sample.id\n",
    "    sample[[\"percent.mt\"]] <- PercentageFeatureSet(sample, pattern = \"^MT-\") \n",
    "    \n",
    "    sample <- subset(sample, subset =\n",
    "      nFeature_RNA > 500 & \n",
    "      nCount_RNA > 1000 & \n",
    "      nCount_RNA < 50000 & \n",
    "      percent.mt < 10     \n",
    "    )\n",
    "    sample.objs[[sample.id]] <- sample\n",
    "}\n",
    "prepost.cellranger <- merge(sample.objs[[1]], y = unlist(sample.objs[-c(1)]))\n"
   ]
  },
  {
   "cell_type": "code",
   "execution_count": null,
   "id": "a558a276-034d-4258-9b45-2fcefe21c339",
   "metadata": {},
   "outputs": [],
   "source": []
  },
  {
   "cell_type": "code",
   "execution_count": 8,
   "id": "9c13a1f2-9656-4cb5-8caf-5af6d530a250",
   "metadata": {},
   "outputs": [
    {
     "name": "stdout",
     "output_type": "stream",
     "text": [
      "[1] \"Number of cells called by cellranger: 41065\"\n"
     ]
    }
   ],
   "source": [
    "print(paste0(\"Number of cells called by cellranger: \", dim(prepost.cellranger)[2]))"
   ]
  },
  {
   "cell_type": "code",
   "execution_count": null,
   "id": "aa36f249-d657-4b09-935b-b4031ac9b022",
   "metadata": {},
   "outputs": [],
   "source": []
  },
  {
   "cell_type": "code",
   "execution_count": 9,
   "id": "5bf20544-fdca-46d1-ac29-8f73929af674",
   "metadata": {},
   "outputs": [],
   "source": [
    "# Keep only cells called by both cellranger AND cellbender cell calling algorithms\n",
    "\n",
    "prepost@meta.data$barcodes <- colnames(prepost)\n",
    "prepost@meta.data$in.cellranger <- 'No'\n",
    "prepost@meta.data$in.cellranger[colnames(prepost) %in% colnames(prepost.cellranger)] <- 'Yes'\n",
    "prepost <- subset(prepost, in.cellranger == 'Yes')"
   ]
  },
  {
   "cell_type": "code",
   "execution_count": null,
   "id": "fa0a32d2-f19b-40f4-ab7b-09243e234278",
   "metadata": {},
   "outputs": [],
   "source": []
  },
  {
   "cell_type": "code",
   "execution_count": 10,
   "id": "5f2b3298-b2d0-4c7f-962c-5bd373151743",
   "metadata": {},
   "outputs": [
    {
     "name": "stdout",
     "output_type": "stream",
     "text": [
      "[1] \"Number of cells called by both cellranger AND cellbender: 39234\"\n"
     ]
    }
   ],
   "source": [
    "print(paste0(\"Number of cells called by both cellranger AND cellbender: \", dim(prepost)[2]))"
   ]
  },
  {
   "cell_type": "code",
   "execution_count": 11,
   "id": "43edd5fd-7bfc-4976-a761-ca1d1df92fff",
   "metadata": {},
   "outputs": [
    {
     "data": {
      "text/html": [
       "<table class=\"dataframe\">\n",
       "<caption>A matrix: 2 × 6 of type dbl</caption>\n",
       "<thead>\n",
       "\t<tr><th></th><th scope=col>used</th><th scope=col>(Mb)</th><th scope=col>gc trigger</th><th scope=col>(Mb)</th><th scope=col>max used</th><th scope=col>(Mb)</th></tr>\n",
       "</thead>\n",
       "<tbody>\n",
       "\t<tr><th scope=row>Ncells</th><td> 16429425</td><td> 877.5</td><td>  27240640</td><td> 1454.9</td><td>  27240640</td><td> 1454.9</td></tr>\n",
       "\t<tr><th scope=row>Vcells</th><td>948712027</td><td>7238.1</td><td>2605699239</td><td>19880.0</td><td>2536164277</td><td>19349.4</td></tr>\n",
       "</tbody>\n",
       "</table>\n"
      ],
      "text/latex": [
       "A matrix: 2 × 6 of type dbl\n",
       "\\begin{tabular}{r|llllll}\n",
       "  & used & (Mb) & gc trigger & (Mb) & max used & (Mb)\\\\\n",
       "\\hline\n",
       "\tNcells &  16429425 &  877.5 &   27240640 &  1454.9 &   27240640 &  1454.9\\\\\n",
       "\tVcells & 948712027 & 7238.1 & 2605699239 & 19880.0 & 2536164277 & 19349.4\\\\\n",
       "\\end{tabular}\n"
      ],
      "text/markdown": [
       "\n",
       "A matrix: 2 × 6 of type dbl\n",
       "\n",
       "| <!--/--> | used | (Mb) | gc trigger | (Mb) | max used | (Mb) |\n",
       "|---|---|---|---|---|---|---|\n",
       "| Ncells |  16429425 |  877.5 |   27240640 |  1454.9 |   27240640 |  1454.9 |\n",
       "| Vcells | 948712027 | 7238.1 | 2605699239 | 19880.0 | 2536164277 | 19349.4 |\n",
       "\n"
      ],
      "text/plain": [
       "       used      (Mb)   gc trigger (Mb)    max used   (Mb)   \n",
       "Ncells  16429425  877.5   27240640  1454.9   27240640  1454.9\n",
       "Vcells 948712027 7238.1 2605699239 19880.0 2536164277 19349.4"
      ]
     },
     "metadata": {},
     "output_type": "display_data"
    }
   ],
   "source": [
    "rm(prepost.cellranger)\n",
    "rm(sample.objs)\n",
    "gc()"
   ]
  },
  {
   "cell_type": "code",
   "execution_count": 18,
   "id": "bfe92232-1b38-4e70-9504-e34e9e256349",
   "metadata": {},
   "outputs": [],
   "source": [
    "prepost$sample_id[prepost$sample_id == 'P8IP_04'] = 'P8IP'"
   ]
  },
  {
   "cell_type": "code",
   "execution_count": 19,
   "id": "8f140200-c095-49c5-8af5-d8675d38b006",
   "metadata": {},
   "outputs": [],
   "source": [
    "saveRDS(prepost, \"../ProcessedData/seurat/filtered_ip4.rds\")"
   ]
  },
  {
   "cell_type": "code",
   "execution_count": null,
   "id": "4e2cad51-2bcd-4cfa-bf7e-645552de1278",
   "metadata": {},
   "outputs": [],
   "source": []
  },
  {
   "cell_type": "markdown",
   "id": "4792b98f-8d8e-42e1-9277-2830e628ac08",
   "metadata": {},
   "source": [
    "#### 3. QC Stats "
   ]
  },
  {
   "cell_type": "code",
   "execution_count": 13,
   "id": "7a9feb50-9b69-48ef-9ccc-05759ce0bd48",
   "metadata": {},
   "outputs": [],
   "source": [
    "prepost <- readRDS(\"../ProcessedData/seurat/filtered_ip4.rds\")"
   ]
  },
  {
   "cell_type": "code",
   "execution_count": 14,
   "id": "86d048b6-9ad2-4398-9283-cbf3a1067456",
   "metadata": {},
   "outputs": [],
   "source": [
    "prepost[[\"percent.TCR\"]] <- PercentageFeatureSet(prepost, pattern = \"^TR[ABDG][VJC]\")\n",
    "prepost[[\"percent.ribo\"]] <- PercentageFeatureSet(prepost, pattern = \"^RP[SL]\")\n",
    "prepost[[\"percent.mt\"]] <- PercentageFeatureSet(prepost, pattern = \"^MT-\")\n",
    "prepost[[\"percent.hb\"]] <- PercentageFeatureSet(prepost, pattern = \"^HB[^(P)]\")\n",
    "prepost[[\"log10GenesPerUMI\"]]  <- log10(prepost$nFeature_RNA) / log10(prepost$nCount_RNA)\n"
   ]
  },
  {
   "cell_type": "code",
   "execution_count": 20,
   "id": "06cf5f08-0d43-4b79-9323-202654957182",
   "metadata": {},
   "outputs": [
    {
     "data": {
      "text/plain": [
       "\n",
       "\n",
       "|sample_id | num_cells| median_nUMI| median_nGene| median_percent_mt|\n",
       "|:---------|---------:|-----------:|------------:|-----------------:|\n",
       "|P3IP      |      6992|     27320.5|       6066.0|              5.05|\n",
       "|P4IP      |      5910|     27179.5|       5678.0|              3.81|\n",
       "|P6IP      |      4114|     24327.0|       5319.0|              3.96|\n",
       "|P8IP      |     22218|      6859.0|       2653.5|              3.74|"
      ]
     },
     "metadata": {},
     "output_type": "display_data"
    }
   ],
   "source": [
    "summary_stats <- prepost@meta.data %>%\n",
    "  group_by(sample_id) %>%\n",
    "  summarize(\n",
    "    num_cells = n(),\n",
    "    median_nUMI = median(nCount_RNA),\n",
    "    median_nGene = median(nFeature_RNA),\n",
    "    median_percent_mt = round(median(percent.mt),2)\n",
    "  )\n",
    "kable((summary_stats), format = \"markdown\")"
   ]
  },
  {
   "cell_type": "code",
   "execution_count": null,
   "id": "9c989d47-bb4b-4248-aafb-98070840113d",
   "metadata": {},
   "outputs": [],
   "source": []
  },
  {
   "cell_type": "code",
   "execution_count": 21,
   "id": "61d385fa-7523-429b-b827-693e6d83ac03",
   "metadata": {},
   "outputs": [],
   "source": [
    "Idents(prepost) <- \"sample_id\"\n",
    "prepost@meta.data$Patient <- sub(\"(P\\\\d+).*$\", \"\\\\1\", prepost@meta.data$sample_id)\n",
    "prepost@meta.data$Day <- sub(\"^P\\\\d+\", \"\", prepost@meta.data$sample_id)\n",
    "\n",
    "batch_mapping <- c( \n",
    "    \"P8IP\" = 'Batch8', \"P4IP\" = 'Batch9', \"P6IP\" = 'Batch9', \"P3IP\" = 'Batch10'\n",
    ")\n",
    "prepost@meta.data$Batch <- batch_mapping[as.character(prepost$sample_id)]"
   ]
  },
  {
   "cell_type": "code",
   "execution_count": null,
   "id": "668807ca-4c5c-4427-878f-6aac4f719175",
   "metadata": {},
   "outputs": [],
   "source": []
  },
  {
   "cell_type": "code",
   "execution_count": 22,
   "id": "c6c0d913-1727-4e68-820a-01e7243b4cfa",
   "metadata": {},
   "outputs": [],
   "source": [
    "saveRDS(prepost, \"../ProcessedData/seurat/filtered_ip4.rds\")"
   ]
  },
  {
   "cell_type": "code",
   "execution_count": null,
   "id": "7e41206d-b7f3-43ef-b097-0ddac01507fc",
   "metadata": {},
   "outputs": [],
   "source": [
    "SaveH5Seurat(prepost, filename = \"../ProcessedData/seurat/filtered_ip4.h5Seurat\", overwrite=T)\n",
    "Convert(\"../ProcessedData/seurat/filtered_ip4.h5Seurat\", dest = \"h5ad\", overwrite=T)"
   ]
  },
  {
   "cell_type": "code",
   "execution_count": null,
   "id": "6d1d5e31-ae0a-4ecd-af63-0c077ec06c83",
   "metadata": {},
   "outputs": [],
   "source": []
  }
 ],
 "metadata": {
  "kernelspec": {
   "display_name": "R",
   "language": "R",
   "name": "ir"
  },
  "language_info": {
   "codemirror_mode": "r",
   "file_extension": ".r",
   "mimetype": "text/x-r-source",
   "name": "R",
   "pygments_lexer": "r",
   "version": "4.3.2"
  }
 },
 "nbformat": 4,
 "nbformat_minor": 5
}
