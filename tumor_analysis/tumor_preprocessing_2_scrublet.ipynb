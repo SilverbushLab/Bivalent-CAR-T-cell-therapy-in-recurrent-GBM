{
 "cells": [
  {
   "cell_type": "code",
   "execution_count": 2,
   "id": "63f76b96-c21e-4f2e-b2fd-29db4c78b838",
   "metadata": {},
   "outputs": [],
   "source": [
    "import scanpy as sc\n",
    "import os\n",
    "import numpy as np\n",
    "import pandas as pd\n",
    "import anndata as ad\n",
    "import celltypist\n",
    "from celltypist import models\n",
    "import scrublet\n",
    "from scipy.io import mmwrite"
   ]
  },
  {
   "cell_type": "code",
   "execution_count": null,
   "id": "a00eff22-f4d0-412c-a92a-d194db530091",
   "metadata": {},
   "outputs": [],
   "source": [
    "# Establish samples\n",
    "sampleList = [\"P1_Pre_10708\",\n",
    "                  \"P1_Post_10853\",\n",
    "                  \"P4_Pre_10973\",\n",
    "                  \"P4_Post_11389\",\n",
    "                  \"P7_Pre_11183\",\n",
    "                  \"P7_Post_11517_redo\",\n",
    "                  \"P16_Post_11907\"]"
   ]
  },
  {
   "cell_type": "code",
   "execution_count": null,
   "id": "05f901f1-5553-4e65-9950-7d6643a9cbc1",
   "metadata": {},
   "outputs": [],
   "source": [
    "\n",
    "# Base directory where processed data is stored\n",
    "base_dir = \"/home/project/processed_data/\"\n",
    "\n",
    "# Dictionary to store AnnData objects by sample ID\n",
    "adata_dict = {}\n",
    "\n",
    "# Load each sample\n",
    "for sample_id in sampleList:\n",
    "    file_path = os.path.join( base_dir, \"cellbender/\", sample_id, \"cellbender_output_FPR_0.1_filtered.h5\")\n",
    "    \n",
    "    if os.path.exists(file_path):\n",
    "        print(f\"Loading {sample_id} from {file_path}\")\n",
    "        adata = sc.read_10x_h5(file_path)\n",
    "\n",
    "        out_dir = os.path.join(base_dir, \"scrublet/\", sample_id)\n",
    "        print(\"creating directory: \", out_dir)\n",
    "        os.mkdir(os.path.join(base_dir, \"scrublet/\", sample_id))\n",
    "        \n",
    "        print(\"running scrublet for: \", sample_id)\n",
    "        sc.pp.scrublet(adata, expected_doublet_rate = 0.1) # this is the default expected doublet rate. may need to change this. Daniel set to 0.6.\n",
    "        adata_dict[sample_id] = adata\n",
    "        path_out = os.path.join(base_dir, \"scrublet/\", sample_id, \"scrublet_doublets.csv\")\n",
    "        adata.obs[['doublet_score', 'predicted_doublet']].to_csv(path_out)\n",
    "    else:\n",
    "        print(f\"❗ File not found for sample: {sample_id} at {file_path}\")"
   ]
  },
  {
   "cell_type": "markdown",
   "id": "6abbbc7b-95aa-44a2-8cb6-f76f7bcfbc71",
   "metadata": {},
   "source": [
    "The below cell outputs cellbender .h5 files to barcodes, features, and matrix files for import into Seurat. It is not necessary to do it this way so disregard this code"
   ]
  },
  {
   "cell_type": "code",
   "execution_count": 4,
   "id": "2bb8a249-07f3-41cb-994d-37f645bb52a1",
   "metadata": {},
   "outputs": [
    {
     "name": "stdout",
     "output_type": "stream",
     "text": [
      "Outputting: P7_Post_11517\n",
      "Outputting: P16_Post_11907\n"
     ]
    }
   ],
   "source": [
    "import os\n",
    "import pandas as pd\n",
    "from scipy.io import mmwrite\n",
    "\n",
    "output_base = \"/home/project/processed_data/cellbender\"\n",
    "\n",
    "for sample_id in sampleList:\n",
    "    print(f\"Outputting: {sample_id}\")\n",
    "    \n",
    "    adata = adata_dict[sample_id]\n",
    "    output_dir = os.path.join(output_base, sample_id, \"cellbender_formatted_for_seurat\")\n",
    "    os.makedirs(output_dir, exist_ok=True)\n",
    "\n",
    "    # Export the matrix\n",
    "    mmwrite(os.path.join(output_dir, \"matrix.mtx\"), adata.X)\n",
    "\n",
    "    # Export barcodes\n",
    "    adata.obs_names.to_series().to_csv(\n",
    "        os.path.join(output_dir, \"barcodes.tsv\"),\n",
    "        sep=\"\\t\",\n",
    "        index=False,\n",
    "        header=False\n",
    "    )\n",
    "\n",
    "    # Export features (gene ID, gene name, feature type)\n",
    "    # Fallback if 'gene_ids' or 'gene_names' are missing\n",
    "    if 'gene_ids' in adata.var.columns and 'gene_names' in adata.var.columns:\n",
    "        features_df = pd.DataFrame({\n",
    "            \"gene_id\": adata.var['gene_ids'],\n",
    "            \"gene_name\": adata.var['gene_names'],\n",
    "            \"feature_type\": \"Gene Expression\"\n",
    "        })\n",
    "    else:\n",
    "        features_df = pd.DataFrame({\n",
    "            \"gene_id\": adata.var_names,\n",
    "            \"gene_name\": adata.var_names,\n",
    "            \"feature_type\": \"Gene Expression\"\n",
    "        })\n",
    "\n",
    "    features_df.to_csv(\n",
    "        os.path.join(output_dir, \"features.tsv\"),\n",
    "        sep=\"\\t\",\n",
    "        index=False,\n",
    "        header=False\n",
    "    )\n"
   ]
  },
  {
   "cell_type": "code",
   "execution_count": null,
   "id": "d658d7bb-50bc-455a-bee3-02727bd7621a",
   "metadata": {},
   "outputs": [],
   "source": []
  }
 ],
 "metadata": {
  "kernelspec": {
   "display_name": "Python 3 (ipykernel)",
   "language": "python",
   "name": "python3"
  },
  "language_info": {
   "codemirror_mode": {
    "name": "ipython",
    "version": 3
   },
   "file_extension": ".py",
   "mimetype": "text/x-python",
   "name": "python",
   "nbconvert_exporter": "python",
   "pygments_lexer": "ipython3",
   "version": "3.10.12"
  }
 },
 "nbformat": 4,
 "nbformat_minor": 5
}
